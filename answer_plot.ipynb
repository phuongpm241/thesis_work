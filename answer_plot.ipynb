{
 "cells": [
  {
   "cell_type": "code",
   "execution_count": 1,
   "metadata": {},
   "outputs": [],
   "source": [
    "import numpy as np"
   ]
  },
  {
   "cell_type": "code",
   "execution_count": 2,
   "metadata": {},
   "outputs": [],
   "source": [
    "# Load pretrained model (since intermediate data is not included, the model cannot be refined with additional data)\n",
    "# emb = KeyedVectors.load_word2vec_format('/data/medg/misc/phuongpm/wikipedia-pubmed-and-PMC-w2v.bin', binary=True)"
   ]
  },
  {
   "cell_type": "code",
   "execution_count": 3,
   "metadata": {},
   "outputs": [],
   "source": [
    "from util.util import *"
   ]
  },
  {
   "cell_type": "code",
   "execution_count": 4,
   "metadata": {},
   "outputs": [],
   "source": [
    "path = '/crimea/phuongpm/tuned/squadv2_results_biobert/'"
   ]
  },
  {
   "cell_type": "code",
   "execution_count": 5,
   "metadata": {},
   "outputs": [],
   "source": [
    "file = 'predictions_.json'"
   ]
  },
  {
   "cell_type": "code",
   "execution_count": 6,
   "metadata": {},
   "outputs": [],
   "source": [
    "data = load_json(path+file)"
   ]
  },
  {
   "cell_type": "code",
   "execution_count": 7,
   "metadata": {},
   "outputs": [],
   "source": [
    "count = {}\n",
    "for a in data.values():\n",
    "    if a != '':\n",
    "        count[a] = count.get(a, 0) + 1"
   ]
  },
  {
   "cell_type": "code",
   "execution_count": 8,
   "metadata": {},
   "outputs": [],
   "source": [
    "import matplotlib.pyplot as plt"
   ]
  },
  {
   "cell_type": "code",
   "execution_count": 9,
   "metadata": {},
   "outputs": [],
   "source": [
    "pairs = []\n",
    "ans = 0\n",
    "for k, v in count.items():\n",
    "    pairs.append((v, k))\n",
    "    ans += v\n",
    "    "
   ]
  },
  {
   "cell_type": "code",
   "execution_count": 10,
   "metadata": {},
   "outputs": [],
   "source": [
    "pairs.sort(reverse=True)"
   ]
  },
  {
   "cell_type": "code",
   "execution_count": 11,
   "metadata": {},
   "outputs": [
    {
     "data": {
      "text/plain": [
       "[(65, 'treatment'),\n",
       " (24, 'disease'),\n",
       " (23, 'mri'),\n",
       " (17, 'mortality'),\n",
       " (16, 'symptoms'),\n",
       " (12, 'tuberculosis'),\n",
       " (11, 'surgery'),\n",
       " (11, 'malignancy'),\n",
       " (11, 'fever'),\n",
       " (10, 'tb'),\n",
       " (10, 'infection'),\n",
       " (9, 'ct'),\n",
       " (8, 'sarcoidosis'),\n",
       " (8, 'myxoedema coma'),\n",
       " (8, 'hiv'),\n",
       " (8, 'ecg'),\n",
       " (8, 'ct scan'),\n",
       " (7, 'vomiting'),\n",
       " (6, 'rash'),\n",
       " (6, 'portal hypertension')]"
      ]
     },
     "execution_count": 11,
     "metadata": {},
     "output_type": "execute_result"
    }
   ],
   "source": [
    "pairs[:20]"
   ]
  },
  {
   "cell_type": "code",
   "execution_count": 12,
   "metadata": {},
   "outputs": [],
   "source": [
    "n_count = len(count)"
   ]
  },
  {
   "cell_type": "code",
   "execution_count": 13,
   "metadata": {},
   "outputs": [],
   "source": [
    "stop = 20"
   ]
  },
  {
   "cell_type": "code",
   "execution_count": 14,
   "metadata": {},
   "outputs": [],
   "source": [
    "def plotcommonword(pairs, stop=20):\n",
    "    plotorder = list(range(stop, 0, -1))\n",
    "    plt.figure(figsize=(8,6))\n",
    "    plt.hlines(y=plotorder, xmin=0, xmax=[v for v, _ in pairs[:stop]], color='salmon')\n",
    "    plt.plot([v for v, _ in pairs[:stop]], plotorder, \"D\", color = 'red')\n",
    "    plt.yticks(plotorder, [k for _, k in pairs[:stop]])\n",
    "    plt.xlabel('Count')\n",
    "    plt.show()"
   ]
  },
  {
   "cell_type": "code",
   "execution_count": 15,
   "metadata": {},
   "outputs": [],
   "source": [
    "wordlength = []\n",
    "for k in count:\n",
    "    wordlength.append((len(k.split()),k))\n",
    "    "
   ]
  },
  {
   "cell_type": "code",
   "execution_count": 16,
   "metadata": {},
   "outputs": [],
   "source": [
    "wordlength.sort(reverse=True)"
   ]
  },
  {
   "cell_type": "code",
   "execution_count": 17,
   "metadata": {},
   "outputs": [],
   "source": [
    "import seaborn as sns"
   ]
  },
  {
   "cell_type": "code",
   "execution_count": 18,
   "metadata": {},
   "outputs": [
    {
     "data": {
      "image/png": "[encoded data removed]",
      "text/plain": [
       "<Figure size 432x288 with 1 Axes>"
      ]
     },
     "metadata": {
      "needs_background": "light"
     },
     "output_type": "display_data"
    }
   ],
   "source": [
    "sns.distplot([l for l,_ in wordlength],kde=False, hist=True, color = 'salmon')\n",
    "plt.xlabel('Length')\n",
    "plt.ylabel('Count')\n",
    "plt.show()"
   ]
  },
  {
   "cell_type": "code",
   "execution_count": 21,
   "metadata": {},
   "outputs": [],
   "source": [
    "truthdatapath = '/data/medg/misc/phuongpm/clicr_squad_v2_full/'"
   ]
  },
  {
   "cell_type": "code",
   "execution_count": 22,
   "metadata": {},
   "outputs": [],
   "source": [
    "devfile = 'dev1.0.json'"
   ]
  },
  {
   "cell_type": "code",
   "execution_count": 23,
   "metadata": {},
   "outputs": [],
   "source": [
    "truthdata = load_json(truthdatapath + devfile)"
   ]
  },
  {
   "cell_type": "code",
   "execution_count": 38,
   "metadata": {},
   "outputs": [],
   "source": [
    "truepositive = [] #list of predicted correct answer\n",
    "falsepositive = [] #list of predicted answer when truth answer is none\n",
    "truenegative = 0 # count of predicted correct none answer\n",
    "falsenegative = 0 # count of predicted error none answer\n",
    "unmatching = [] # tuple of wrong prediction \n",
    "for datum in truthdata['data'][:1]:\n",
    "    par = datum['paragraphs'][0]\n",
    "    for qa in par['qas']:\n",
    "        if qa['is_impossible']:\n",
    "            truthanswer = ''\n",
    "        else:\n",
    "            truthanswer = qa['answers'][0]['text']\n",
    "        predictedanswer = data[qa['id']]\n",
    "        \n",
    "        if truthanswer == predictedanswer:\n",
    "            if truthanswer != '':\n",
    "                truepositive.append(predictedanswer)\n",
    "            else:\n",
    "                truenegative += 1\n",
    "        else:\n",
    "            if truthanswer == '':\n",
    "                falsepositive.append(predictedanswer)\n",
    "            else:\n",
    "                if predictedanswer == '':\n",
    "                    \n",
    "                falsenegative.append((truthanswer, predictedanswer))\n",
    "                \n",
    "    \n",
    "    "
   ]
  },
  {
   "cell_type": "code",
   "execution_count": 39,
   "metadata": {},
   "outputs": [
    {
     "data": {
      "text/plain": [
       "['caffey disease', 'infantile cortical hyperostosis', 'caffey disease']"
      ]
     },
     "execution_count": 39,
     "metadata": {},
     "output_type": "execute_result"
    }
   ],
   "source": [
    "truepositive"
   ]
  },
  {
   "cell_type": "code",
   "execution_count": 40,
   "metadata": {},
   "outputs": [
    {
     "data": {
      "text/plain": [
       "['childhood bone swelling', 'other conditions']"
      ]
     },
     "execution_count": 40,
     "metadata": {},
     "output_type": "execute_result"
    }
   ],
   "source": [
    "falsepositive"
   ]
  },
  {
   "cell_type": "code",
   "execution_count": 41,
   "metadata": {},
   "outputs": [
    {
     "data": {
      "text/plain": [
       "[('systemic symptoms', ''),\n",
       " ('irritability', ''),\n",
       " ('fever', ''),\n",
       " ('soft - tissue swelling', ''),\n",
       " ('underlying cortical bone thickening', 'bone lesions')]"
      ]
     },
     "execution_count": 41,
     "metadata": {},
     "output_type": "execute_result"
    }
   ],
   "source": [
    "falsenegative"
   ]
  },
  {
   "cell_type": "code",
   "execution_count": null,
   "metadata": {},
   "outputs": [],
   "source": []
  }
 ],
 "metadata": {
  "kernelspec": {
   "display_name": "Python 3",
   "language": "python",
   "name": "python3"
  },
  "language_info": {
   "codemirror_mode": {
    "name": "ipython",
    "version": 3
   },
   "file_extension": ".py",
   "mimetype": "text/x-python",
   "name": "python",
   "nbconvert_exporter": "python",
   "pygments_lexer": "ipython3",
   "version": "3.6.6"
  }
 },
 "nbformat": 4,
 "nbformat_minor": 2
}
