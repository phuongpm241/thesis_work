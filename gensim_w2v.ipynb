{
 "cells": [
  {
   "cell_type": "code",
   "execution_count": 1,
   "metadata": {},
   "outputs": [],
   "source": [
    "from gensim.models import KeyedVectors\n",
    "import numpy as np"
   ]
  },
  {
   "cell_type": "code",
   "execution_count": 2,
   "metadata": {},
   "outputs": [],
   "source": [
    "# Load pretrained model (since intermediate data is not included, the model cannot be refined with additional data)\n",
    "model = KeyedVectors.load_word2vec_format('/data/medg/misc/phuongpm/wikipedia-pubmed-and-PMC-w2v.bin', binary=True)"
   ]
  },
  {
   "cell_type": "code",
   "execution_count": 9,
   "metadata": {},
   "outputs": [],
   "source": [
    "cand = ['treatment',\n",
    " 'antenatal scans',\n",
    " 'skull x-ray',\n",
    " 'ultrasound scan of the brain',\n",
    " 'routine chromosome study',\n",
    " 'lesions',\n",
    " 'disruption',\n",
    " 'visible congenital anomaly',\n",
    " 'frontal bossing',\n",
    " 'isolated cranial distortion mimicking caput succedenum',\n",
    " 'subsequent mri',\n",
    " 'clear wide demarcation line',\n",
    " 'dislocation of craniofacial structures',\n",
    " 'moulding of the skull bone over the left parietotemporal region',\n",
    " 'caput succedaneum',\n",
    " 'depression',\n",
    " 'amniotic band disruption',\n",
    " 'head circumference',\n",
    " 'vascular disruption sequence',\n",
    " 'adhesions',\n",
    " 'concavity of the right parietal bone',\n",
    " 'early amnion rupture',\n",
    " 'amniotic band disruption syndrome',\n",
    " 'similar inbowing of the lateral cranium on the left side',\n",
    " 'birth weight',\n",
    " 'ultrasound scan',\n",
    " 'mimic caput succedaneum',\n",
    " 'malformation',\n",
    " 'tropin',\n",
    " 'amniotic deformities',\n",
    " 'prophylactic antibiotics',\n",
    " 'craniofacial defect',\n",
    " 'swelling',\n",
    " 'amniotic bands at different stages of organogenesis',\n",
    " 'distorted hemicranium',\n",
    " 'spectrum of defects',\n",
    " 'neurological abnormality',\n",
    " 'amniotic band',\n",
    " 'musculoskeletal and neurological examination of the baby',\n",
    " 'placental examination',\n",
    " 'collection of fluid',\n",
    " 'isolated distortion in the left parietal bone',\n",
    " 'significant vascular compromise',\n",
    " 'constrictive tissue bands',\n",
    " 'saggital suture',\n",
    " 'apparent distortion',\n",
    " 'respiratory distress',\n",
    " 'consanguinity',\n",
    " 'visceral abnormality',\n",
    " 'myriad of deformities of fetal body parts',\n",
    " 'multiple congenital anomalies',\n",
    " 'circumference of the asymmetric swelling of the scalp',\n",
    " 'fibrous band',\n",
    " 'shrivelled amniotic strands ) , ( b ) amniotic adhesions',\n",
    " 'cranial sutures',\n",
    " 'mimicking caput succedaneum',\n",
    " 'distortion',\n",
    " 'vascular',\n",
    " 'significant compromise to satisfactory cosmesis',\n",
    " 'blood sugar',\n",
    " 'amniotic band disruption complex',\n",
    " 'ear abnormality',\n",
    " 'audible cardiac murmur',\n",
    " 'mild defects in limbs to severe craniofacial defects',\n",
    " 'hypertelorism',\n",
    " 'blood investigations',\n",
    " 'large caput over the left parietal region',\n",
    " 'amniotic band syndrome',\n",
    " 'nasogastric feeding',\n",
    " 'neurological defect',\n",
    " 'deformation',\n",
    " 'minor craniofacial defects',\n",
    " 'cephaloamniotic adhesions',\n",
    " 'syndrome',\n",
    " 'apgar score',\n",
    " 'other visible congenital anomaly',\n",
    " 'concavity in the left parietal bone',\n",
    " 'intravenous cefotaxime',\n",
    " 'craniofacial defects',\n",
    " 'multiple surgical procedures',\n",
    " 'little - known entity',\n",
    " 'premature rupture',\n",
    " 'overriding or fracture',\n",
    " 'significant medical illness',\n",
    " 'chronic illness',\n",
    " 'soft tissue swelling',\n",
    " 'mimics caput succedaneum',\n",
    " 'subsequent mri scan of the brain',\n",
    " 'oxygen saturation',\n",
    " 'relative preservation on the right side']"
   ]
  },
  {
   "cell_type": "code",
   "execution_count": 10,
   "metadata": {},
   "outputs": [],
   "source": [
    "a = 'isolated calvarial deformity mimicking caput succedenum'"
   ]
  },
  {
   "cell_type": "code",
   "execution_count": 5,
   "metadata": {},
   "outputs": [
    {
     "data": {
      "text/plain": [
       "False"
      ]
     },
     "execution_count": 5,
     "metadata": {},
     "output_type": "execute_result"
    }
   ],
   "source": [
    "a in cand"
   ]
  },
  {
   "cell_type": "code",
   "execution_count": 13,
   "metadata": {},
   "outputs": [
    {
     "data": {
      "text/plain": [
       "0.783263012424052"
      ]
     },
     "execution_count": 13,
     "metadata": {},
     "output_type": "execute_result"
    }
   ],
   "source": [
    "model.wmdistance(a, 'similar inbowing of the lateral cranium on the left side')"
   ]
  },
  {
   "cell_type": "code",
   "execution_count": 11,
   "metadata": {},
   "outputs": [],
   "source": [
    "small_dist = [None, None]\n",
    "for c in cand:\n",
    "    dist = model.wmdistance(a, c)\n",
    "    if not small_dist[0] or dist < small_dist[0]:\n",
    "        small_dist = [dist, c]"
   ]
  },
  {
   "cell_type": "code",
   "execution_count": 12,
   "metadata": {},
   "outputs": [
    {
     "data": {
      "text/plain": [
       "[0.42177248140193196, 'isolated cranial distortion mimicking caput succedenum']"
      ]
     },
     "execution_count": 12,
     "metadata": {},
     "output_type": "execute_result"
    }
   ],
   "source": [
    "small_dist"
   ]
  },
  {
   "cell_type": "markdown",
   "metadata": {},
   "source": [
    "model.save_word2vec_format('/data/medg/misc/phuongpm/wikipedia-pubmed-and-PMC-w2v.txt', binary=False)"
   ]
  },
  {
   "cell_type": "code",
   "execution_count": 14,
   "metadata": {},
   "outputs": [],
   "source": [
    "cand_dist = [(model.wmdistance(a, c), c) for c in cand]"
   ]
  },
  {
   "cell_type": "code",
   "execution_count": 16,
   "metadata": {},
   "outputs": [],
   "source": [
    "cand_dist.sort()"
   ]
  },
  {
   "cell_type": "code",
   "execution_count": 18,
   "metadata": {},
   "outputs": [
    {
     "data": {
      "text/plain": [
       "[(0.42177248140193196,\n",
       "  'isolated cranial distortion mimicking caput succedenum'),\n",
       " (0.6728803089792539,\n",
       "  'musculoskeletal and neurological examination of the baby'),\n",
       " (0.7159839345177091, 'mimicking caput succedaneum'),\n",
       " (0.7242535644891402, 'significant vascular compromise'),\n",
       " (0.7258511721020487, 'mild defects in limbs to severe craniofacial defects'),\n",
       " (0.7327656853081019, 'minor craniofacial defects'),\n",
       " (0.783263012424052,\n",
       "  'similar inbowing of the lateral cranium on the left side'),\n",
       " (0.7839527472206286, 'multiple congenital anomalies'),\n",
       " (0.7944416729219277, 'mimic caput succedaneum'),\n",
       " (0.8085322652085357, 'circumference of the asymmetric swelling of the scalp')]"
      ]
     },
     "execution_count": 18,
     "metadata": {},
     "output_type": "execute_result"
    }
   ],
   "source": [
    "cand_dist[:10]"
   ]
  },
  {
   "cell_type": "code",
   "execution_count": 19,
   "metadata": {},
   "outputs": [
    {
     "data": {
      "text/plain": [
       "0.8169706636530389"
      ]
     },
     "execution_count": 19,
     "metadata": {},
     "output_type": "execute_result"
    }
   ],
   "source": [
    "model.wmdistance('pulmonary alveolar microlithiasis', 'nodularity of peribronchovascular , interlobular and subpleural interstitium')"
   ]
  },
  {
   "cell_type": "code",
   "execution_count": 21,
   "metadata": {},
   "outputs": [
    {
     "data": {
      "text/plain": [
       "array([ 3.11681509e-01, -1.08875863e-01, -7.30802566e-02, -3.57491732e-01,\n",
       "        1.44373029e-01,  1.23160370e-02, -6.74498752e-02,  2.31552318e-01,\n",
       "        3.42144996e-01,  1.30678236e-01, -8.32657292e-02, -9.55091119e-02,\n",
       "        1.55129507e-01, -6.15722358e-01, -2.05474868e-01, -1.95438400e-01,\n",
       "       -7.88431317e-02,  2.51645952e-01,  6.05237819e-02, -8.27418566e-02,\n",
       "        1.13689043e-01, -4.64074194e-01,  7.14855641e-02,  4.33887579e-02,\n",
       "       -4.74668235e-01, -2.29874998e-01, -2.52444565e-01, -3.09518486e-01,\n",
       "       -3.32507119e-02,  8.26667100e-02, -1.71057031e-01,  1.64105952e-01,\n",
       "        3.41095418e-01, -5.91121800e-02,  2.51523793e-01, -2.43111044e-01,\n",
       "       -3.43367279e-01, -1.41229466e-01, -3.59698057e-01,  4.72250313e-01,\n",
       "        1.06141768e-01, -7.78387636e-02,  3.65276247e-01,  1.37502808e-04,\n",
       "        2.69963354e-01, -1.86198279e-01,  1.21227622e-01, -2.09516853e-01,\n",
       "       -3.21526498e-01, -1.99538007e-01,  6.30043745e-02, -1.32522404e-01,\n",
       "       -2.72982955e-01, -1.97970029e-02,  7.86353573e-02,  1.93482861e-01,\n",
       "       -8.80980790e-02,  2.93833166e-01, -2.66875744e-01, -2.06684008e-01,\n",
       "       -3.05831939e-01, -2.42482111e-01, -2.07485557e-01, -2.64828384e-01,\n",
       "        2.91245282e-01,  2.49909107e-02,  4.54852909e-01,  5.22056594e-02,\n",
       "        8.96685272e-02, -2.29243711e-01, -4.48965319e-02,  2.33255357e-01,\n",
       "       -2.57720917e-01,  4.85775843e-02, -2.94931293e-01,  2.41134092e-01,\n",
       "       -8.41521323e-02, -4.21783291e-02,  2.47644305e-01, -3.89341801e-01,\n",
       "       -1.46911303e-02,  4.80125248e-01,  6.33406267e-02,  3.46191108e-01,\n",
       "       -2.83697039e-01,  2.42908075e-01, -9.92980227e-02, -3.49582992e-02,\n",
       "        1.43622085e-02,  1.74661130e-01,  1.69731081e-01, -7.52562284e-02,\n",
       "        1.03542626e-01, -1.51756659e-01, -2.15365011e-02,  2.40529820e-01,\n",
       "        4.33022119e-02,  1.57458231e-01, -4.58020627e-01,  3.60910714e-01,\n",
       "       -1.38760433e-01,  8.47560540e-03, -1.46154150e-01, -6.69980347e-02,\n",
       "       -5.14550030e-01,  6.44428313e-01,  4.38643135e-02, -3.15090120e-02,\n",
       "        2.05664918e-01, -7.12777674e-01,  3.62336859e-02, -1.67878605e-02,\n",
       "        1.77924603e-01, -7.37059861e-02, -3.76990065e-02, -6.16587363e-02,\n",
       "       -9.24160108e-02,  5.50239198e-02,  1.78383708e-01, -1.17357455e-01,\n",
       "        1.56420201e-01,  1.61906973e-01,  2.21866056e-01,  1.55488282e-01,\n",
       "       -6.53118920e-03, -2.53386676e-01,  5.12678698e-02,  3.63154769e-01,\n",
       "        2.46550724e-01,  3.11150432e-01, -1.71420891e-02, -3.22219163e-01,\n",
       "        1.97839037e-01,  7.26452842e-02, -4.46159542e-02,  1.83219299e-01,\n",
       "        2.86965370e-01, -4.47469741e-01,  4.41756219e-01, -1.55665264e-01,\n",
       "        2.39613757e-01, -2.44685441e-01, -2.69156575e-01,  5.10265194e-02,\n",
       "        1.25992700e-01, -4.40881729e-01,  2.87077129e-01, -2.68516392e-01,\n",
       "       -2.29043104e-02,  6.85355961e-01,  4.75354224e-01,  3.39334011e-02,\n",
       "       -3.38034332e-01, -6.33245409e-02,  5.24326637e-02, -3.79215628e-02,\n",
       "       -5.16313016e-01, -1.32998988e-01, -1.22818656e-01,  2.81879067e-01,\n",
       "       -2.80549377e-01, -2.39710912e-01, -1.40287820e-02,  1.11945840e-02,\n",
       "        6.00725375e-02,  3.49409699e-01,  3.47220525e-02, -1.48363318e-02,\n",
       "       -1.91410020e-01, -1.11156389e-01,  3.10208023e-01, -2.92690396e-02,\n",
       "        7.95048773e-02, -1.51999995e-01, -1.33109421e-01, -3.12900513e-01,\n",
       "       -2.16801792e-01, -1.42998889e-01, -1.59438346e-02, -1.37632877e-01,\n",
       "        9.65775177e-02, -3.59177798e-01,  2.43138716e-01, -1.05566531e-01,\n",
       "       -1.26343101e-01, -2.44895801e-01, -1.79689944e-01,  4.77199852e-01,\n",
       "       -2.44718138e-02, -2.88147599e-01,  5.60053810e-02,  1.30400747e-01,\n",
       "        2.66500339e-02,  3.23206425e-01,  2.56365418e-01, -1.35498509e-01,\n",
       "       -7.64217079e-02, -2.50441372e-01,  2.88717337e-02, -1.44199595e-01],\n",
       "      dtype=float32)"
      ]
     },
     "execution_count": 21,
     "metadata": {},
     "output_type": "execute_result"
    }
   ],
   "source": [
    "model.get_vector('interstitium')"
   ]
  },
  {
   "cell_type": "code",
   "execution_count": null,
   "metadata": {},
   "outputs": [],
   "source": []
  }
 ],
 "metadata": {
  "kernelspec": {
   "display_name": "Python 3",
   "language": "python",
   "name": "python3"
  },
  "language_info": {
   "codemirror_mode": {
    "name": "ipython",
    "version": 3
   },
   "file_extension": ".py",
   "mimetype": "text/x-python",
   "name": "python",
   "nbconvert_exporter": "python",
   "pygments_lexer": "ipython3",
   "version": "3.6.6"
  }
 },
 "nbformat": 4,
 "nbformat_minor": 2
}
