{
 "cells": [
  {
   "cell_type": "code",
   "execution_count": 21,
   "metadata": {},
   "outputs": [],
   "source": [
    "import seaborn as sns\n",
    "import matplotlib.pyplot as plt\n",
    "from numpy import mean"
   ]
  },
  {
   "cell_type": "code",
   "execution_count": 3,
   "metadata": {},
   "outputs": [],
   "source": [
    "clicr_75_em = [52.59, 53.03, 52.59]\n",
    "clicr_75_f1 = [55.59, 56.21, 55.59]\n",
    "clicr_50_em = [51.54, 52.87, 53.06]\n",
    "clicr_50_f1 = [54.83, 56.34, 56.48]\n",
    "clicr_100_em = [54.67]\n",
    "clicr_100_f1 = [58.26]"
   ]
  },
  {
   "cell_type": "code",
   "execution_count": 16,
   "metadata": {},
   "outputs": [],
   "source": [
    "squad_75_em = [71.02, 72.80, 72.53]\n",
    "squad_75_f1 = [74.46, 76.00, 75.93]\n",
    "squad_50_em = [69.73, 69.69, 69.14]\n",
    "squad_50_f1 = [73.28, 73.14, 72.70]\n",
    "squad_100_em = [72.09]\n",
    "squad_100_f1 = [74.79]"
   ]
  },
  {
   "cell_type": "code",
   "execution_count": 17,
   "metadata": {},
   "outputs": [],
   "source": [
    "x = [50, 50, 50, 75, 75, 75, 100]\n",
    "shortx = [50, 75, 100]"
   ]
  },
  {
   "cell_type": "code",
   "execution_count": 11,
   "metadata": {},
   "outputs": [],
   "source": [
    "# Pretty colors\n",
    "BLACK = \"k\"\n",
    "GREEN = \"#59d98e\"\n",
    "DARKGREEN = \"green\"\n",
    "SEA = \"#159d82\"\n",
    "BLUE = \"#3498db\"\n",
    "PURPLE = \"#9b59b6\"\n",
    "GREY = \"#95a5a6\"\n",
    "RED = \"#e74c3c\"\n",
    "ORANGE = \"#f39c12\""
   ]
  },
  {
   "cell_type": "code",
   "execution_count": 37,
   "metadata": {},
   "outputs": [
    {
     "data": {
      "image/png": "[encoded data removed]",
      "text/plain": [
       "<Figure size 432x288 with 1 Axes>"
      ]
     },
     "metadata": {
      "needs_background": "light"
     },
     "output_type": "display_data"
    }
   ],
   "source": [
    "plt.scatter(x, clicr_50_em + clicr_75_em + clicr_100_em, color = BLUE, label = 'CliCR EM')\n",
    "plt.plot(shortx, [mean(clicr_50_em), mean(clicr_75_em), mean(clicr_100_em)], '--', color = BLUE)\n",
    "plt.scatter(x, clicr_50_f1 + clicr_75_f1 + clicr_100_f1, color = PURPLE, label = 'CliCR F1')\n",
    "plt.plot(shortx, [mean(clicr_50_f1), mean(clicr_75_f1), mean(clicr_100_f1)], '--', color = PURPLE)\n",
    "plt.ylim([50,80])\n",
    "plt.xticks([50, 75, 100], [50, 75, 100])\n",
    "plt.xlabel('Percentage of train data')\n",
    "plt.ylabel('Score')\n",
    "plt.legend()\n",
    "plt.show()"
   ]
  },
  {
   "cell_type": "code",
   "execution_count": 36,
   "metadata": {},
   "outputs": [
    {
     "data": {
      "image/png": "[encoded data removed]",
      "text/plain": [
       "<Figure size 432x288 with 1 Axes>"
      ]
     },
     "metadata": {
      "needs_background": "light"
     },
     "output_type": "display_data"
    }
   ],
   "source": [
    "plt.scatter(x, squad_50_em + squad_75_em + squad_100_em, color = RED, label = 'SQuADv2.0 EM')\n",
    "plt.plot(shortx, [mean(squad_50_em), mean(squad_75_em), mean(squad_100_em)], '--', color = RED)\n",
    "plt.scatter(x, squad_50_f1 + squad_75_f1 + squad_100_f1, color = ORANGE, label = 'SQuADv2.0 F1')\n",
    "plt.plot(shortx, [mean(squad_50_f1), mean(squad_75_f1), mean(squad_100_f1)], '--', color = ORANGE)\n",
    "plt.ylim([50, 80])\n",
    "plt.xticks([50, 75, 100], [50, 75, 100])\n",
    "plt.xlabel('Percentage of train data')\n",
    "plt.ylabel('Score')\n",
    "plt.legend()\n",
    "plt.show()"
   ]
  },
  {
   "cell_type": "code",
   "execution_count": 38,
   "metadata": {},
   "outputs": [],
   "source": [
    "from scipy.stats import fisher_exact"
   ]
  },
  {
   "cell_type": "code",
   "execution_count": 44,
   "metadata": {},
   "outputs": [
    {
     "data": {
      "text/plain": [
       "(0.9162549878466605, 0.007190367874183824)"
      ]
     },
     "execution_count": 44,
     "metadata": {},
     "output_type": "execute_result"
    }
   ],
   "source": [
    "clicrsize = 6391\n",
    "mean_50_clicr = round(mean(clicr_50_em)*clicrsize/100)\n",
    "mean_75_clicr = round(mean(clicr_75_em)*clicrsize/100)\n",
    "mean_100_clicr = round(mean(clicr_100_em)*clicrsize/100)\n",
    "fisher_exact([[mean_50_clicr, clicrsize - mean_50_clicr], [mean_100_clicr, clicrsize - mean_100_clicr]], 'less')"
   ]
  },
  {
   "cell_type": "code",
   "execution_count": 45,
   "metadata": {},
   "outputs": [
    {
     "data": {
      "text/plain": [
       "(0.9249212770670182, 0.014557633609587036)"
      ]
     },
     "execution_count": 45,
     "metadata": {},
     "output_type": "execute_result"
    }
   ],
   "source": [
    "fisher_exact([[mean_75_clicr, clicrsize - mean_75_clicr], [mean_100_clicr, clicrsize - mean_100_clicr]], 'less')"
   ]
  },
  {
   "cell_type": "code",
   "execution_count": null,
   "metadata": {},
   "outputs": [],
   "source": []
  }
 ],
 "metadata": {
  "kernelspec": {
   "display_name": "Python 3",
   "language": "python",
   "name": "python3"
  },
  "language_info": {
   "codemirror_mode": {
    "name": "ipython",
    "version": 3
   },
   "file_extension": ".py",
   "mimetype": "text/x-python",
   "name": "python",
   "nbconvert_exporter": "python",
   "pygments_lexer": "ipython3",
   "version": "3.6.6"
  }
 },
 "nbformat": 4,
 "nbformat_minor": 4
}
