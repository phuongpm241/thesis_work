{
 "cells": [
  {
   "cell_type": "markdown",
   "metadata": {},
   "source": [
    "### This script examines how to embed text with BioBert embeddings + necessary data preprocessing."
   ]
  },
  {
   "cell_type": "code",
   "execution_count": 2,
   "metadata": {},
   "outputs": [],
   "source": [
    "import json"
   ]
  },
  {
   "cell_type": "code",
   "execution_count": 3,
   "metadata": {},
   "outputs": [],
   "source": [
    "def load_json(filename):\n",
    "    with open(filename) as in_f:\n",
    "        return json.load(in_f)"
   ]
  },
  {
   "cell_type": "code",
   "execution_count": 4,
   "metadata": {},
   "outputs": [],
   "source": [
    "filename = \"/data/medg/misc/phuongpm/\" + \"train1.0.json\""
   ]
  },
  {
   "cell_type": "code",
   "execution_count": 5,
   "metadata": {},
   "outputs": [],
   "source": [
    "dataset = load_json(filename)"
   ]
  },
  {
   "cell_type": "code",
   "execution_count": 10,
   "metadata": {},
   "outputs": [
    {
     "data": {
      "text/plain": [
       "dict_keys(['data', 'version'])"
      ]
     },
     "execution_count": 10,
     "metadata": {},
     "output_type": "execute_result"
    }
   ],
   "source": [
    "dataset.keys()"
   ]
  },
  {
   "cell_type": "code",
   "execution_count": 9,
   "metadata": {},
   "outputs": [],
   "source": [
    "datum = dataset['data'][0]"
   ]
  },
  {
   "cell_type": "code",
   "execution_count": 11,
   "metadata": {},
   "outputs": [
    {
     "data": {
      "text/plain": [
       "dict_keys(['document', 'source'])"
      ]
     },
     "execution_count": 11,
     "metadata": {},
     "output_type": "execute_result"
    }
   ],
   "source": [
    "datum.keys()"
   ]
  },
  {
   "cell_type": "code",
   "execution_count": 12,
   "metadata": {},
   "outputs": [],
   "source": [
    "datum_document = datum['document']"
   ]
  },
  {
   "cell_type": "code",
   "execution_count": 13,
   "metadata": {},
   "outputs": [
    {
     "data": {
      "text/plain": [
       "dict_keys(['qas', 'title', 'context'])"
      ]
     },
     "execution_count": 13,
     "metadata": {},
     "output_type": "execute_result"
    }
   ],
   "source": [
    "datum_document.keys()"
   ]
  },
  {
   "cell_type": "code",
   "execution_count": 14,
   "metadata": {},
   "outputs": [],
   "source": [
    "datum_context = datum_document['context']"
   ]
  },
  {
   "cell_type": "code",
   "execution_count": 15,
   "metadata": {},
   "outputs": [
    {
     "data": {
      "text/plain": [
       "'Summary\\n\\nThis report describes a term newborn with BEG__isolated distortion in the left parietal bone__END without any BEG__other visible congenital anomaly__END , due to BEG__amniotic band disruption__END .\\nA BEG__skull x-ray__END , BEG__ultrasound scan__END and BEG__subsequent MRI scan of the brain__END did not show any BEG__apparent distortion__END apart from BEG__depression__END and BEG__concavity in the left parietal bone__END .\\nThe purpose of this case report is to raise awareness of this possible , mild outcome of this BEG__little - known entity__END , which may BEG__mimic caput succedaneum__END ( moulding of the presenting part in the birth canal during natural delivery ) , and to provide a historical and embryological background .\\n\\nBackground\\n\\nBEG__Amniotic band disruption syndrome__END is a rare entity which occurs in 1 in 1200 to 1 in 15 000 live births .\\n1 It may cause a BEG__myriad of deformities of fetal body parts__END from BEG__mild defects in limbs to severe craniofacial defects__END incompatible with life .\\nThe BEG__spectrum of defects__END includes BEG__disruption__END , BEG__deformation__END and BEG__malformation__END of different body parts due to interference from the BEG__amniotic bands at different stages of organogenesis__END .\\n2 The BEG__syndrome__END is also described as ADAM complex ( for ‘ BEG__amniotic deformities__END , BEG__adhesions__END , mutilation ’ ) or BEG__amniotic band disruption complex__END ( ABDC ) for its nature of presentation .\\nSince BEG__Tropin__END described the condition in 1968 , 3 many questions regarding this BEG__syndrome__END remain unanswered because of its rarity and complex mechanism .\\nThis case is unique in its presentation as it BEG__mimics caput succedaneum__END without any BEG__neurological defect__END .\\nThis type of presentation has not been described before in the medical literature .\\n\\nCase presentation\\n\\nA girl , born at 38 weeks of gestation by vaginal delivery of normal duration of labour , presented with a BEG__large caput over the left parietal region__END ( figure 1A , B ) .\\nThe mother was a 32 - year - old primigravida without any BEG__significant medical illness__END .\\nThere was no family history of BEG__consanguinity__END or BEG__chronic illness__END .\\nThe pregnancy was uneventful and BEG__antenatal scans__END were reported as normal .\\nThe mother had a history of BEG__premature rupture__END of the membrane of more than 24 h and had BEG__prophylactic antibiotics__END .\\nThe baby did not cry immediately after birth .\\nThe BEG__Apgar score__END at 1 min was 5 , and this increased to 9 after five inflation breaths .\\nHer BEG__blood sugar__END was 6.1 mmol / litre .\\nHer BEG__birth weight__END was 1960 g ( 9th to 25th centile ) and BEG__head circumference__END was 29 cm ( 9th centile ) .\\nShe was pink , handling well and moving all her limbs spontaneously .\\nHer BEG__oxygen saturation__END on air was 99 % .\\nShe did not have any BEG__respiratory distress__END , BEG__visible congenital anomaly__END or BEG__audible cardiac murmur__END .\\nThere was no BEG__frontal bossing__END , BEG__ear abnormality__END or BEG__hypertelorism__END .\\nBEG__Musculoskeletal and neurological examination of the baby__END was normal .\\nThe craniofacial contours of the parents were unremarkable .\\n\\nThe BEG__circumference of the asymmetric swelling of the scalp__END was 26 cm .\\nA BEG__clear wide demarcation line__END was present between the BEG__swelling__END and the vessels of the scalp .\\nThe skin over the BEG__swelling__END appeared darker than the rest of the scalp .\\nBEG__Cranial sutures__END including the BEG__saggital suture__END could not be felt due to the BEG__swelling__END .\\nThe newborn was given BEG__nasogastric feeding__END and BEG__intravenous cefotaxime__END .\\n\\nInvestigations\\n\\nHer BEG__blood investigations__END were all within normal limits .\\nA BEG__skull x-ray__END showed BEG__moulding of the skull bone over the left parietotemporal region__END ( figures 2 and 3 ) .\\nNo BEG__overriding or fracture__END was found except BEG__soft tissue swelling__END overlying the vertex .\\nAn BEG__ultrasound scan of the brain__END showed symmetrical lateral ventricles in both hemispheres with falx at the midline .\\nA BEG__collection of fluid__END of 0.7 – 1 cm in diameter was found over the calvaria , which was suggestive of BEG__caput succedaneum__END .\\n\\nA BEG__subsequent MRI__END showed the left hemicranium was distorted with BEG__relative preservation on the right side__END ( figure 4 ) .\\nThere was some BEG__concavity of the right parietal bone__END at the edge of BEG__caput succedaneum__END and BEG__similar inbowing of the lateral cranium on the left side__END , which was suggestive of modelling by an BEG__amniotic band__END .\\n\\nDifferential diagnosis\\n\\nBEG__Treatment__END\\n\\nOutcome and follow - up\\n\\nDiscussion\\n\\nThough the exact aetiology of ABDC is unknown , two main pathogenetic mechanisms are proposed .\\nExogenous theory suggests BEG__early amnion rupture__END leading to a BEG__fibrous band__END that can entrap fetal body part ( figure 5 ) .\\nThe endogenous theory suggests BEG__vascular__END compromise .\\nGenetic factors might operate in some cases .\\n\\nMoerman et al described three types of BEG__lesions__END in this complex : ( A ) BEG__constrictive tissue bands__END ( BEG__shrivelled amniotic strands ) , ( B ) amniotic adhesions__END ( fusion between disrupted body part and intact amniotic membrane ) and ( C ) limb – body wall complex .\\n6 According to their observations , most of the BEG__craniofacial defects__END occur as a result of a BEG__vascular disruption sequence__END with or without BEG__cephaloamniotic adhesions__END , unlike the case described here that had the clear mark of a constriction band without BEG__significant vascular compromise__END .\\n\\nAn accurate diagnosis may be achieved by looking for the major features of BEG__amniotic band syndrome__END , and a BEG__routine chromosome study__END and BEG__placental examination__END in cases with BEG__multiple congenital anomalies__END .\\n27\\n\\nThough encephalocele , clefts , BEG__distortion__END and BEG__dislocation of craniofacial structures__END have been described as presentations of BEG__craniofacial defect__END related to this BEG__syndrome__END in the medical literature , 5 BEG__distorted hemicranium__END ( BEG__mimicking caput succedaneum__END ) without any BEG__neurological defect__END has never been described previously .\\nThe outcome of the BEG__syndrome__END depends on the gravity of BEG__malformation__END .\\nTermination of pregnancy is considered in cases of severe craniofacial or BEG__visceral abnormality__END .\\nSuccessful limb salvage by fetoscopic release of an BEG__amniotic band__END has been reported .\\nMost of the BEG__minor craniofacial defects__END require BEG__multiple surgical procedures__END to restore function , with BEG__significant compromise to satisfactory cosmesis__END .'"
      ]
     },
     "execution_count": 15,
     "metadata": {},
     "output_type": "execute_result"
    }
   ],
   "source": [
    "datum_context"
   ]
  },
  {
   "cell_type": "code",
   "execution_count": 16,
   "metadata": {},
   "outputs": [],
   "source": [
    "datum_qas = datum_document['qas']"
   ]
  },
  {
   "cell_type": "code",
   "execution_count": 17,
   "metadata": {},
   "outputs": [
    {
     "data": {
      "text/plain": [
       "[{'answers': [{'text': 'Isolated calvarial deformity mimicking caput succedenum',\n",
       "    'origin': 'dataset',\n",
       "    'sem_type': 'problem',\n",
       "    'cui': 'C2825501'},\n",
       "   {'text': 'Calvarial',\n",
       "    'origin': 'UMLS',\n",
       "    'sem_type': 'problem',\n",
       "    'cui': 'C2825501'}],\n",
       "  'id': 'bcr.12.2009.2549.1',\n",
       "  'query': '▶ @placeholder from BEG__amniotic band disruption__END is a possibility .'},\n",
       " {'answers': [{'text': 'amniotic band disruption',\n",
       "    'origin': 'dataset',\n",
       "    'sem_type': 'problem',\n",
       "    'cui': 'C1527388'},\n",
       "   {'text': 'Amniotic bands',\n",
       "    'origin': 'UMLS',\n",
       "    'sem_type': 'problem',\n",
       "    'cui': 'C1527388'},\n",
       "   {'text': 'Amniotic Band',\n",
       "    'origin': 'UMLS',\n",
       "    'sem_type': 'problem',\n",
       "    'cui': 'C1527388'},\n",
       "   {'text': 'AMNIOTIC BAND',\n",
       "    'origin': 'UMLS',\n",
       "    'sem_type': 'problem',\n",
       "    'cui': 'C1527388'},\n",
       "   {'text': 'Bands, Amniotic',\n",
       "    'origin': 'UMLS',\n",
       "    'sem_type': 'problem',\n",
       "    'cui': 'C1527388'},\n",
       "   {'text': 'amniotic band',\n",
       "    'origin': 'UMLS',\n",
       "    'sem_type': 'problem',\n",
       "    'cui': 'C1527388'},\n",
       "   {'text': 'amniotic banding',\n",
       "    'origin': 'UMLS',\n",
       "    'sem_type': 'problem',\n",
       "    'cui': 'C1527388'},\n",
       "   {'text': 'amniotic bands constriction',\n",
       "    'origin': 'UMLS',\n",
       "    'sem_type': 'problem',\n",
       "    'cui': 'C1527388'},\n",
       "   {'text': 'amniotic band constriction',\n",
       "    'origin': 'UMLS',\n",
       "    'sem_type': 'problem',\n",
       "    'cui': 'C1527388'},\n",
       "   {'text': 'amniotic bands',\n",
       "    'origin': 'UMLS',\n",
       "    'sem_type': 'problem',\n",
       "    'cui': 'C1527388'},\n",
       "   {'text': 'Amniotic constriction ring',\n",
       "    'origin': 'UMLS',\n",
       "    'sem_type': 'problem',\n",
       "    'cui': 'C1527388'},\n",
       "   {'text': 'Amniotic constriction band',\n",
       "    'origin': 'UMLS',\n",
       "    'sem_type': 'problem',\n",
       "    'cui': 'C1527388'},\n",
       "   {'text': 'Amniotic Bands',\n",
       "    'origin': 'UMLS',\n",
       "    'sem_type': 'problem',\n",
       "    'cui': 'C1527388'},\n",
       "   {'text': 'Amniotic band (disorder)',\n",
       "    'origin': 'UMLS',\n",
       "    'sem_type': 'problem',\n",
       "    'cui': 'C1527388'},\n",
       "   {'text': 'amniotic constriction band',\n",
       "    'origin': 'UMLS',\n",
       "    'sem_type': 'problem',\n",
       "    'cui': 'C1527388'},\n",
       "   {'text': 'Amniotic adhesion',\n",
       "    'origin': 'UMLS',\n",
       "    'sem_type': 'problem',\n",
       "    'cui': 'C1527388'},\n",
       "   {'text': 'Amniotic band',\n",
       "    'origin': 'UMLS',\n",
       "    'sem_type': 'problem',\n",
       "    'cui': 'C1527388'},\n",
       "   {'text': 'Band, Amniotic',\n",
       "    'origin': 'UMLS',\n",
       "    'sem_type': 'problem',\n",
       "    'cui': 'C1527388'}],\n",
       "  'id': 'bcr.12.2009.2549.2',\n",
       "  'query': '▶ BEG__Isolated calvarial deformity mimicking caput succedenum__END from @placeholder is a possibility .'},\n",
       " {'answers': [{'text': 'MRI',\n",
       "    'origin': 'dataset',\n",
       "    'sem_type': 'test',\n",
       "    'cui': 'C0024485'},\n",
       "   {'text': 'MRI - Magnetic reson imaging',\n",
       "    'origin': 'UMLS',\n",
       "    'sem_type': 'test',\n",
       "    'cui': 'C0024485'},\n",
       "   {'text': 'Magnetic resonance: [imaging] or [study] (procedure)',\n",
       "    'origin': 'UMLS',\n",
       "    'sem_type': 'test',\n",
       "    'cui': 'C0024485'},\n",
       "   {'text': 'Nuclear magnetic resonance NOS',\n",
       "    'origin': 'UMLS',\n",
       "    'sem_type': 'test',\n",
       "    'cui': 'C0024485'},\n",
       "   {'text': 'Magnetic Resonance Imaging [MRI]',\n",
       "    'origin': 'UMLS',\n",
       "    'sem_type': 'test',\n",
       "    'cui': 'C0024485'},\n",
       "   {'text': 'Imaging, NMR',\n",
       "    'origin': 'UMLS',\n",
       "    'sem_type': 'test',\n",
       "    'cui': 'C0024485'},\n",
       "   {'text': 'NMR', 'origin': 'UMLS', 'sem_type': 'test', 'cui': 'C0024485'},\n",
       "   {'text': 'imaging magnetic nuclear resonance',\n",
       "    'origin': 'UMLS',\n",
       "    'sem_type': 'test',\n",
       "    'cui': 'C0024485'},\n",
       "   {'text': 'TOMOGR NMR',\n",
       "    'origin': 'UMLS',\n",
       "    'sem_type': 'test',\n",
       "    'cui': 'C0024485'},\n",
       "   {'text': 'Nuclear magnetic resonance imaging',\n",
       "    'origin': 'UMLS',\n",
       "    'sem_type': 'test',\n",
       "    'cui': 'C0024485'},\n",
       "   {'text': 'Magnetic Resonance Imaging',\n",
       "    'origin': 'UMLS',\n",
       "    'sem_type': 'test',\n",
       "    'cui': 'C0024485'},\n",
       "   {'text': 'NMR Tomography',\n",
       "    'origin': 'UMLS',\n",
       "    'sem_type': 'test',\n",
       "    'cui': 'C0024485'},\n",
       "   {'text': 'NMR - Nuclear magnetic reson',\n",
       "    'origin': 'UMLS',\n",
       "    'sem_type': 'test',\n",
       "    'cui': 'C0024485'},\n",
       "   {'text': 'NMR - Nuclear magnetic resonance',\n",
       "    'origin': 'UMLS',\n",
       "    'sem_type': 'test',\n",
       "    'cui': 'C0024485'},\n",
       "   {'text': 'MR TOMOGR',\n",
       "    'origin': 'UMLS',\n",
       "    'sem_type': 'test',\n",
       "    'cui': 'C0024485'},\n",
       "   {'text': 'MRI, NOS',\n",
       "    'origin': 'UMLS',\n",
       "    'sem_type': 'test',\n",
       "    'cui': 'C0024485'},\n",
       "   {'text': 'Magnetic resonance imaging (procedure)',\n",
       "    'origin': 'UMLS',\n",
       "    'sem_type': 'test',\n",
       "    'cui': 'C0024485'},\n",
       "   {'text': 'MRI scan',\n",
       "    'origin': 'UMLS',\n",
       "    'sem_type': 'test',\n",
       "    'cui': 'C0024485'},\n",
       "   {'text': 'magnetic resonance imaging',\n",
       "    'origin': 'UMLS',\n",
       "    'sem_type': 'test',\n",
       "    'cui': 'C0024485'},\n",
       "   {'text': 'NMRI', 'origin': 'UMLS', 'sem_type': 'test', 'cui': 'C0024485'},\n",
       "   {'text': 'nmr imaging',\n",
       "    'origin': 'UMLS',\n",
       "    'sem_type': 'test',\n",
       "    'cui': 'C0024485'},\n",
       "   {'text': 'NMR Imaging',\n",
       "    'origin': 'UMLS',\n",
       "    'sem_type': 'test',\n",
       "    'cui': 'C0024485'},\n",
       "   {'text': 'Medical Imaging, Magnetic Resonance / Nuclear Magnetic Resonance',\n",
       "    'origin': 'UMLS',\n",
       "    'sem_type': 'test',\n",
       "    'cui': 'C0024485'},\n",
       "   {'text': 'Magnetic resonance imaging - action (qualifier value)',\n",
       "    'origin': 'UMLS',\n",
       "    'sem_type': 'test',\n",
       "    'cui': 'C0024485'},\n",
       "   {'text': 'Zeugmatography',\n",
       "    'origin': 'UMLS',\n",
       "    'sem_type': 'test',\n",
       "    'cui': 'C0024485'},\n",
       "   {'text': 'ZEUGMATOGR',\n",
       "    'origin': 'UMLS',\n",
       "    'sem_type': 'test',\n",
       "    'cui': 'C0024485'},\n",
       "   {'text': 'Magnetic Resonance Imaging Scan',\n",
       "    'origin': 'UMLS',\n",
       "    'sem_type': 'test',\n",
       "    'cui': 'C0024485'},\n",
       "   {'text': 'Magnetic resonance imaging',\n",
       "    'origin': 'UMLS',\n",
       "    'sem_type': 'test',\n",
       "    'cui': 'C0024485'},\n",
       "   {'text': 'Nuclear magnetic resonance NOS (procedure)',\n",
       "    'origin': 'UMLS',\n",
       "    'sem_type': 'test',\n",
       "    'cui': 'C0024485'},\n",
       "   {'text': 'Tomography, MR',\n",
       "    'origin': 'UMLS',\n",
       "    'sem_type': 'test',\n",
       "    'cui': 'C0024485'},\n",
       "   {'text': 'MR Tomography',\n",
       "    'origin': 'UMLS',\n",
       "    'sem_type': 'test',\n",
       "    'cui': 'C0024485'},\n",
       "   {'text': 'TOMOGR MR',\n",
       "    'origin': 'UMLS',\n",
       "    'sem_type': 'test',\n",
       "    'cui': 'C0024485'},\n",
       "   {'text': 'Imaging, Magnetic Resonance',\n",
       "    'origin': 'UMLS',\n",
       "    'sem_type': 'test',\n",
       "    'cui': 'C0024485'},\n",
       "   {'text': 'nuclear magnetic resonance imaging',\n",
       "    'origin': 'UMLS',\n",
       "    'sem_type': 'test',\n",
       "    'cui': 'C0024485'},\n",
       "   {'text': 'Magnetic resonance study (procedure)',\n",
       "    'origin': 'UMLS',\n",
       "    'sem_type': 'test',\n",
       "    'cui': 'C0024485'},\n",
       "   {'text': 'MR - Magnetic resonance',\n",
       "    'origin': 'UMLS',\n",
       "    'sem_type': 'test',\n",
       "    'cui': 'C0024485'},\n",
       "   {'text': 'MAGNETIC RESONANCE IMAGING',\n",
       "    'origin': 'UMLS',\n",
       "    'sem_type': 'test',\n",
       "    'cui': 'C0024485'},\n",
       "   {'text': 'Tomography, NMR',\n",
       "    'origin': 'UMLS',\n",
       "    'sem_type': 'test',\n",
       "    'cui': 'C0024485'},\n",
       "   {'text': 'NMR TOMOGR',\n",
       "    'origin': 'UMLS',\n",
       "    'sem_type': 'test',\n",
       "    'cui': 'C0024485'},\n",
       "   {'text': 'Magnetic resonance imaging, NOS',\n",
       "    'origin': 'UMLS',\n",
       "    'sem_type': 'test',\n",
       "    'cui': 'C0024485'},\n",
       "   {'text': '5-09 MAGNETIC RESONANCE IMAGING',\n",
       "    'origin': 'UMLS',\n",
       "    'sem_type': 'test',\n",
       "    'cui': 'C0024485'},\n",
       "   {'text': 'magnetic resonance imaging (MRI)',\n",
       "    'origin': 'UMLS',\n",
       "    'sem_type': 'test',\n",
       "    'cui': 'C0024485'},\n",
       "   {'text': 'Magnetic resonance: [imaging] or [study]',\n",
       "    'origin': 'UMLS',\n",
       "    'sem_type': 'test',\n",
       "    'cui': 'C0024485'},\n",
       "   {'text': 'Magnetic resonance imaging procedure',\n",
       "    'origin': 'UMLS',\n",
       "    'sem_type': 'test',\n",
       "    'cui': 'C0024485'},\n",
       "   {'text': 'MRI - Magnetic resonance imaging',\n",
       "    'origin': 'UMLS',\n",
       "    'sem_type': 'test',\n",
       "    'cui': 'C0024485'},\n",
       "   {'text': 'Nuclear magnetic resonance',\n",
       "    'origin': 'UMLS',\n",
       "    'sem_type': 'test',\n",
       "    'cui': 'C0024485'},\n",
       "   {'text': 'nuclear magnetic resonance',\n",
       "    'origin': 'UMLS',\n",
       "    'sem_type': 'test',\n",
       "    'cui': 'C0024485'},\n",
       "   {'text': 'MRI Scan',\n",
       "    'origin': 'UMLS',\n",
       "    'sem_type': 'test',\n",
       "    'cui': 'C0024485'},\n",
       "   {'text': 'Magnetic resonance imaging - action',\n",
       "    'origin': 'UMLS',\n",
       "    'sem_type': 'test',\n",
       "    'cui': 'C0024485'},\n",
       "   {'text': 'NMR Scan',\n",
       "    'origin': 'UMLS',\n",
       "    'sem_type': 'test',\n",
       "    'cui': 'C0024485'},\n",
       "   {'text': 'Nuclear Magnetic Resonance Imaging',\n",
       "    'origin': 'UMLS',\n",
       "    'sem_type': 'test',\n",
       "    'cui': 'C0024485'},\n",
       "   {'text': 'Magnetic resonance study',\n",
       "    'origin': 'UMLS',\n",
       "    'sem_type': 'test',\n",
       "    'cui': 'C0024485'},\n",
       "   {'text': 'MRI scan (procedure)',\n",
       "    'origin': 'UMLS',\n",
       "    'sem_type': 'test',\n",
       "    'cui': 'C0024485'},\n",
       "   {'text': 'Magnetic resonance technique',\n",
       "    'origin': 'UMLS',\n",
       "    'sem_type': 'test',\n",
       "    'cui': 'C0024485'}],\n",
       "  'id': 'bcr.12.2009.2549.3',\n",
       "  'query': '▶ Careful neurological assessment and @placeholder are useful to exclude any BEG__neurological abnormality__END .'},\n",
       " {'answers': [{'text': 'neurological abnormality',\n",
       "    'origin': 'dataset',\n",
       "    'sem_type': 'problem',\n",
       "    'cui': 'C0234072'},\n",
       "   {'text': 'Abnormal nervous system function',\n",
       "    'origin': 'UMLS',\n",
       "    'sem_type': 'problem',\n",
       "    'cui': 'C0234072'},\n",
       "   {'text': 'Abnormal neurological function',\n",
       "    'origin': 'UMLS',\n",
       "    'sem_type': 'problem',\n",
       "    'cui': 'C0234072'},\n",
       "   {'text': 'Abnormal nervous system function (finding)',\n",
       "    'origin': 'UMLS',\n",
       "    'sem_type': 'problem',\n",
       "    'cui': 'C0234072'}],\n",
       "  'id': 'bcr.12.2009.2549.4',\n",
       "  'query': '▶ Careful neurological assessment and BEG__MRI__END are useful to exclude any @placeholder .'}]"
      ]
     },
     "execution_count": 17,
     "metadata": {},
     "output_type": "execute_result"
    }
   ],
   "source": [
    "datum_qas"
   ]
  },
  {
   "cell_type": "code",
   "execution_count": 18,
   "metadata": {},
   "outputs": [],
   "source": [
    "datum_title = datum_document['title']"
   ]
  },
  {
   "cell_type": "code",
   "execution_count": 19,
   "metadata": {},
   "outputs": [
    {
     "data": {
      "text/plain": [
       "'BEG__Isolated cranial distortion mimicking caput succedenum__END from BEG__amniotic band disruption__END without any BEG__neurological abnormality__END'"
      ]
     },
     "execution_count": 19,
     "metadata": {},
     "output_type": "execute_result"
    }
   ],
   "source": [
    "datum_title"
   ]
  },
  {
   "cell_type": "code",
   "execution_count": 20,
   "metadata": {},
   "outputs": [],
   "source": [
    "def to_entities(text, ent_marker=\"@entity\"):\n",
    "    \"\"\"\n",
    "    Text includes entities marked as BEG__w1 w2 w3__END. Transform to a single entity @entityw1_w2_w3.\n",
    "    \"\"\"\n",
    "    word_list = []\n",
    "    inside = False\n",
    "    for w in text.split():\n",
    "        w_stripped = w.strip()\n",
    "        if w_stripped.startswith(\"BEG__\") and w_stripped.endswith(\"__END\"):\n",
    "            concept = [w_stripped.split(\"_\")[2]]\n",
    "            word_list.append(ent_marker + \"_\".join(concept))\n",
    "            if inside:  # something went wrong, leave as is\n",
    "                print(\"Inconsistent markup.\")\n",
    "        elif w_stripped.startswith(\"BEG__\"):\n",
    "            assert not inside\n",
    "            inside = True\n",
    "            concept = [w_stripped.split(\"_\", 2)[-1]]\n",
    "        elif w_stripped.endswith(\"__END\"):\n",
    "            if not inside:\n",
    "                word_list.append(w_stripped[:-5])\n",
    "            else:\n",
    "                concept.append(w_stripped.rsplit(\"_\", 2)[0])\n",
    "                word_list.append(ent_marker + \"_\".join(concept))\n",
    "                inside = False\n",
    "        else:\n",
    "            if inside:\n",
    "                concept.append(w_stripped)\n",
    "            else:\n",
    "                word_list.append(w_stripped)\n",
    "\n",
    "    return \" \".join(word_list)"
   ]
  },
  {
   "cell_type": "code",
   "execution_count": 21,
   "metadata": {},
   "outputs": [
    {
     "data": {
      "text/plain": [
       "'@entityIsolated_cranial_distortion_mimicking_caput_succedenum from @entityamniotic_band_disruption without any @entityneurological_abnormality'"
      ]
     },
     "execution_count": 21,
     "metadata": {},
     "output_type": "execute_result"
    }
   ],
   "source": [
    "to_entities(datum_title)"
   ]
  },
  {
   "cell_type": "code",
   "execution_count": 22,
   "metadata": {},
   "outputs": [
    {
     "data": {
      "text/plain": [
       "'Summary This report describes a term newborn with @entityisolated_distortion_in_the_left_parietal_bone without any @entityother_visible_congenital_anomaly , due to @entityamniotic_band_disruption . A @entityskull_x-ray , @entityultrasound_scan and @entitysubsequent_MRI_scan_of_the_brain did not show any @entityapparent_distortion apart from @entitydepression and @entityconcavity_in_the_left_parietal_bone . The purpose of this case report is to raise awareness of this possible , mild outcome of this @entitylittle_-_known_entity , which may @entitymimic_caput_succedaneum ( moulding of the presenting part in the birth canal during natural delivery ) , and to provide a historical and embryological background . Background @entityAmniotic_band_disruption_syndrome is a rare entity which occurs in 1 in 1200 to 1 in 15 000 live births . 1 It may cause a @entitymyriad_of_deformities_of_fetal_body_parts from @entitymild_defects_in_limbs_to_severe_craniofacial_defects incompatible with life . The @entityspectrum_of_defects includes @entitydisruption , @entitydeformation and @entitymalformation of different body parts due to interference from the @entityamniotic_bands_at_different_stages_of_organogenesis . 2 The @entitysyndrome is also described as ADAM complex ( for ‘ @entityamniotic_deformities , @entityadhesions , mutilation ’ ) or @entityamniotic_band_disruption_complex ( ABDC ) for its nature of presentation . Since @entityTropin described the condition in 1968 , 3 many questions regarding this @entitysyndrome remain unanswered because of its rarity and complex mechanism . This case is unique in its presentation as it @entitymimics_caput_succedaneum without any @entityneurological_defect . This type of presentation has not been described before in the medical literature . Case presentation A girl , born at 38 weeks of gestation by vaginal delivery of normal duration of labour , presented with a @entitylarge_caput_over_the_left_parietal_region ( figure 1A , B ) . The mother was a 32 - year - old primigravida without any @entitysignificant_medical_illness . There was no family history of @entityconsanguinity or @entitychronic_illness . The pregnancy was uneventful and @entityantenatal_scans were reported as normal . The mother had a history of @entitypremature_rupture of the membrane of more than 24 h and had @entityprophylactic_antibiotics . The baby did not cry immediately after birth . The @entityApgar_score at 1 min was 5 , and this increased to 9 after five inflation breaths . Her @entityblood_sugar was 6.1 mmol / litre . Her @entitybirth_weight was 1960 g ( 9th to 25th centile ) and @entityhead_circumference was 29 cm ( 9th centile ) . She was pink , handling well and moving all her limbs spontaneously . Her @entityoxygen_saturation on air was 99 % . She did not have any @entityrespiratory_distress , @entityvisible_congenital_anomaly or @entityaudible_cardiac_murmur . There was no @entityfrontal_bossing , @entityear_abnormality or @entityhypertelorism . @entityMusculoskeletal_and_neurological_examination_of_the_baby was normal . The craniofacial contours of the parents were unremarkable . The @entitycircumference_of_the_asymmetric_swelling_of_the_scalp was 26 cm . A @entityclear_wide_demarcation_line was present between the @entityswelling and the vessels of the scalp . The skin over the @entityswelling appeared darker than the rest of the scalp . @entityCranial_sutures including the @entitysaggital_suture could not be felt due to the @entityswelling . The newborn was given @entitynasogastric_feeding and @entityintravenous_cefotaxime . Investigations Her @entityblood_investigations were all within normal limits . A @entityskull_x-ray showed @entitymoulding_of_the_skull_bone_over_the_left_parietotemporal_region ( figures 2 and 3 ) . No @entityoverriding_or_fracture was found except @entitysoft_tissue_swelling overlying the vertex . An @entityultrasound_scan_of_the_brain showed symmetrical lateral ventricles in both hemispheres with falx at the midline . A @entitycollection_of_fluid of 0.7 – 1 cm in diameter was found over the calvaria , which was suggestive of @entitycaput_succedaneum . A @entitysubsequent_MRI showed the left hemicranium was distorted with @entityrelative_preservation_on_the_right_side ( figure 4 ) . There was some @entityconcavity_of_the_right_parietal_bone at the edge of @entitycaput_succedaneum and @entitysimilar_inbowing_of_the_lateral_cranium_on_the_left_side , which was suggestive of modelling by an @entityamniotic_band . Differential diagnosis @entityTreatment Outcome and follow - up Discussion Though the exact aetiology of ABDC is unknown , two main pathogenetic mechanisms are proposed . Exogenous theory suggests @entityearly_amnion_rupture leading to a @entityfibrous_band that can entrap fetal body part ( figure 5 ) . The endogenous theory suggests @entityvascular compromise . Genetic factors might operate in some cases . Moerman et al described three types of @entitylesions in this complex : ( A ) @entityconstrictive_tissue_bands ( @entityshrivelled_amniotic_strands_)_,_(_B_)_amniotic_adhesions ( fusion between disrupted body part and intact amniotic membrane ) and ( C ) limb – body wall complex . 6 According to their observations , most of the @entitycraniofacial_defects occur as a result of a @entityvascular_disruption_sequence with or without @entitycephaloamniotic_adhesions , unlike the case described here that had the clear mark of a constriction band without @entitysignificant_vascular_compromise . An accurate diagnosis may be achieved by looking for the major features of @entityamniotic_band_syndrome , and a @entityroutine_chromosome_study and @entityplacental_examination in cases with @entitymultiple_congenital_anomalies . 27 Though encephalocele , clefts , @entitydistortion and @entitydislocation_of_craniofacial_structures have been described as presentations of @entitycraniofacial_defect related to this @entitysyndrome in the medical literature , 5 @entitydistorted_hemicranium ( @entitymimicking_caput_succedaneum ) without any @entityneurological_defect has never been described previously . The outcome of the @entitysyndrome depends on the gravity of @entitymalformation . Termination of pregnancy is considered in cases of severe craniofacial or @entityvisceral_abnormality . Successful limb salvage by fetoscopic release of an @entityamniotic_band has been reported . Most of the @entityminor_craniofacial_defects require @entitymultiple_surgical_procedures to restore function , with @entitysignificant_compromise_to_satisfactory_cosmesis .'"
      ]
     },
     "execution_count": 22,
     "metadata": {},
     "output_type": "execute_result"
    }
   ],
   "source": [
    "to_entities(datum_context)"
   ]
  },
  {
   "cell_type": "code",
   "execution_count": 24,
   "metadata": {},
   "outputs": [],
   "source": [
    "cand = [w for w in to_entities(datum_title + \" \" + datum_context).lower().split() if w.startswith('@entity')]"
   ]
  },
  {
   "cell_type": "code",
   "execution_count": 25,
   "metadata": {},
   "outputs": [
    {
     "data": {
      "text/plain": [
       "['@entityisolated_cranial_distortion_mimicking_caput_succedenum',\n",
       " '@entityamniotic_band_disruption',\n",
       " '@entityneurological_abnormality',\n",
       " '@entityisolated_distortion_in_the_left_parietal_bone',\n",
       " '@entityother_visible_congenital_anomaly',\n",
       " '@entityamniotic_band_disruption',\n",
       " '@entityskull_x-ray',\n",
       " '@entityultrasound_scan',\n",
       " '@entitysubsequent_mri_scan_of_the_brain',\n",
       " '@entityapparent_distortion',\n",
       " '@entitydepression',\n",
       " '@entityconcavity_in_the_left_parietal_bone',\n",
       " '@entitylittle_-_known_entity',\n",
       " '@entitymimic_caput_succedaneum',\n",
       " '@entityamniotic_band_disruption_syndrome',\n",
       " '@entitymyriad_of_deformities_of_fetal_body_parts',\n",
       " '@entitymild_defects_in_limbs_to_severe_craniofacial_defects',\n",
       " '@entityspectrum_of_defects',\n",
       " '@entitydisruption',\n",
       " '@entitydeformation',\n",
       " '@entitymalformation',\n",
       " '@entityamniotic_bands_at_different_stages_of_organogenesis',\n",
       " '@entitysyndrome',\n",
       " '@entityamniotic_deformities',\n",
       " '@entityadhesions',\n",
       " '@entityamniotic_band_disruption_complex',\n",
       " '@entitytropin',\n",
       " '@entitysyndrome',\n",
       " '@entitymimics_caput_succedaneum',\n",
       " '@entityneurological_defect',\n",
       " '@entitylarge_caput_over_the_left_parietal_region',\n",
       " '@entitysignificant_medical_illness',\n",
       " '@entityconsanguinity',\n",
       " '@entitychronic_illness',\n",
       " '@entityantenatal_scans',\n",
       " '@entitypremature_rupture',\n",
       " '@entityprophylactic_antibiotics',\n",
       " '@entityapgar_score',\n",
       " '@entityblood_sugar',\n",
       " '@entitybirth_weight',\n",
       " '@entityhead_circumference',\n",
       " '@entityoxygen_saturation',\n",
       " '@entityrespiratory_distress',\n",
       " '@entityvisible_congenital_anomaly',\n",
       " '@entityaudible_cardiac_murmur',\n",
       " '@entityfrontal_bossing',\n",
       " '@entityear_abnormality',\n",
       " '@entityhypertelorism',\n",
       " '@entitymusculoskeletal_and_neurological_examination_of_the_baby',\n",
       " '@entitycircumference_of_the_asymmetric_swelling_of_the_scalp',\n",
       " '@entityclear_wide_demarcation_line',\n",
       " '@entityswelling',\n",
       " '@entityswelling',\n",
       " '@entitycranial_sutures',\n",
       " '@entitysaggital_suture',\n",
       " '@entityswelling',\n",
       " '@entitynasogastric_feeding',\n",
       " '@entityintravenous_cefotaxime',\n",
       " '@entityblood_investigations',\n",
       " '@entityskull_x-ray',\n",
       " '@entitymoulding_of_the_skull_bone_over_the_left_parietotemporal_region',\n",
       " '@entityoverriding_or_fracture',\n",
       " '@entitysoft_tissue_swelling',\n",
       " '@entityultrasound_scan_of_the_brain',\n",
       " '@entitycollection_of_fluid',\n",
       " '@entitycaput_succedaneum',\n",
       " '@entitysubsequent_mri',\n",
       " '@entityrelative_preservation_on_the_right_side',\n",
       " '@entityconcavity_of_the_right_parietal_bone',\n",
       " '@entitycaput_succedaneum',\n",
       " '@entitysimilar_inbowing_of_the_lateral_cranium_on_the_left_side',\n",
       " '@entityamniotic_band',\n",
       " '@entitytreatment',\n",
       " '@entityearly_amnion_rupture',\n",
       " '@entityfibrous_band',\n",
       " '@entityvascular',\n",
       " '@entitylesions',\n",
       " '@entityconstrictive_tissue_bands',\n",
       " '@entityshrivelled_amniotic_strands_)_,_(_b_)_amniotic_adhesions',\n",
       " '@entitycraniofacial_defects',\n",
       " '@entityvascular_disruption_sequence',\n",
       " '@entitycephaloamniotic_adhesions',\n",
       " '@entitysignificant_vascular_compromise',\n",
       " '@entityamniotic_band_syndrome',\n",
       " '@entityroutine_chromosome_study',\n",
       " '@entityplacental_examination',\n",
       " '@entitymultiple_congenital_anomalies',\n",
       " '@entitydistortion',\n",
       " '@entitydislocation_of_craniofacial_structures',\n",
       " '@entitycraniofacial_defect',\n",
       " '@entitysyndrome',\n",
       " '@entitydistorted_hemicranium',\n",
       " '@entitymimicking_caput_succedaneum',\n",
       " '@entityneurological_defect',\n",
       " '@entitysyndrome',\n",
       " '@entitymalformation',\n",
       " '@entityvisceral_abnormality',\n",
       " '@entityamniotic_band',\n",
       " '@entityminor_craniofacial_defects',\n",
       " '@entitymultiple_surgical_procedures',\n",
       " '@entitysignificant_compromise_to_satisfactory_cosmesis']"
      ]
     },
     "execution_count": 25,
     "metadata": {},
     "output_type": "execute_result"
    }
   ],
   "source": [
    "cand"
   ]
  },
  {
   "cell_type": "code",
   "execution_count": 28,
   "metadata": {},
   "outputs": [],
   "source": [
    "qa_txt_option = (\" \" + datum_qas[0]['query'])"
   ]
  },
  {
   "cell_type": "code",
   "execution_count": 29,
   "metadata": {},
   "outputs": [
    {
     "data": {
      "text/plain": [
       "' ▶ @placeholder from BEG__amniotic band disruption__END is a possibility .'"
      ]
     },
     "execution_count": 29,
     "metadata": {},
     "output_type": "execute_result"
    }
   ],
   "source": [
    "qa_txt_option"
   ]
  },
  {
   "cell_type": "code",
   "execution_count": null,
   "metadata": {},
   "outputs": [],
   "source": []
  }
 ],
 "metadata": {
  "kernelspec": {
   "display_name": "Python 3",
   "language": "python",
   "name": "python3"
  },
  "language_info": {
   "codemirror_mode": {
    "name": "ipython",
    "version": 3
   },
   "file_extension": ".py",
   "mimetype": "text/x-python",
   "name": "python",
   "nbconvert_exporter": "python",
   "pygments_lexer": "ipython3",
   "version": "3.6.6"
  }
 },
 "nbformat": 4,
 "nbformat_minor": 2
}
