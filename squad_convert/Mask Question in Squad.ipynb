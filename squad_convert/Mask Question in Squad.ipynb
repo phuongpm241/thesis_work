{
 "cells": [
  {
   "cell_type": "code",
   "execution_count": 1,
   "metadata": {},
   "outputs": [],
   "source": [
    "import sys\n",
    "sys.path.append('../util')\n",
    "from util import *"
   ]
  },
  {
   "cell_type": "code",
   "execution_count": 2,
   "metadata": {},
   "outputs": [],
   "source": [
    "filepath = '/data/medg/misc/phuongpm/'"
   ]
  },
  {
   "cell_type": "code",
   "execution_count": 3,
   "metadata": {},
   "outputs": [],
   "source": [
    "folder = 'squadv2/'"
   ]
  },
  {
   "cell_type": "code",
   "execution_count": 4,
   "metadata": {},
   "outputs": [],
   "source": [
    "filename = filepath + folder + 'train-v2.0.json'"
   ]
  },
  {
   "cell_type": "code",
   "execution_count": 5,
   "metadata": {},
   "outputs": [],
   "source": [
    "# rawdata = load_json(filename)"
   ]
  },
  {
   "cell_type": "code",
   "execution_count": 6,
   "metadata": {},
   "outputs": [],
   "source": [
    "# data = rawdata ['data']"
   ]
  },
  {
   "cell_type": "code",
   "execution_count": 7,
   "metadata": {},
   "outputs": [],
   "source": [
    "# sampledata = data[0]"
   ]
  },
  {
   "cell_type": "code",
   "execution_count": 8,
   "metadata": {},
   "outputs": [],
   "source": [
    "# sampledata.keys()"
   ]
  },
  {
   "cell_type": "code",
   "execution_count": 9,
   "metadata": {},
   "outputs": [],
   "source": [
    "# sampledata['title']"
   ]
  },
  {
   "cell_type": "code",
   "execution_count": 10,
   "metadata": {},
   "outputs": [],
   "source": [
    "# sample_paragraph = sampledata['paragraphs'][0]"
   ]
  },
  {
   "cell_type": "code",
   "execution_count": 11,
   "metadata": {},
   "outputs": [],
   "source": [
    "# sample_paragraph.keys()"
   ]
  },
  {
   "cell_type": "code",
   "execution_count": 12,
   "metadata": {},
   "outputs": [],
   "source": [
    "# sample_paragraph['qas']"
   ]
  },
  {
   "cell_type": "code",
   "execution_count": 13,
   "metadata": {},
   "outputs": [],
   "source": [
    "whs = ['what','when', 'why', 'how', 'whose', 'whom', 'where', 'which', 'who']"
   ]
  },
  {
   "cell_type": "code",
   "execution_count": 14,
   "metadata": {},
   "outputs": [],
   "source": [
    "# for sampledata in data:\n",
    "#     for p in sampledata['paragraphs']:\n",
    "#         for qa in p['qas']:\n",
    "#             oldq = qa['question'].lower()\n",
    "#             newq = ''\n",
    "#             for w in whs:\n",
    "#                 if w in oldq:\n",
    "#                     newq = oldq.replace(w, '[MASK]')\n",
    "#                     break\n",
    "#             qa['question'] = newq if len(newq) > 0 else oldq"
   ]
  },
  {
   "cell_type": "code",
   "execution_count": 15,
   "metadata": {},
   "outputs": [],
   "source": [
    "def maskquestion(filename):\n",
    "    rawdata = load_json(filename)\n",
    "    data = rawdata['data']\n",
    "    for sampledata in data:\n",
    "        for p in sampledata['paragraphs']:\n",
    "            for qa in p['qas']:\n",
    "                oldq = qa['question'].lower()\n",
    "                newq = ''\n",
    "                for w in whs:\n",
    "                    if w in oldq:\n",
    "                        newq = oldq.replace(w, '[MASK]')\n",
    "                        break\n",
    "                qa['question'] = newq if len(newq) > 0 else oldq\n",
    "                \n",
    "    rawdata['data'] = data\n",
    "    return rawdata\n",
    "    \n",
    "    "
   ]
  },
  {
   "cell_type": "code",
   "execution_count": 16,
   "metadata": {},
   "outputs": [],
   "source": [
    "newdata = maskquestion(filename)"
   ]
  },
  {
   "cell_type": "code",
   "execution_count": 17,
   "metadata": {},
   "outputs": [],
   "source": [
    "# save_json(newdata, filepath + 'squadv2_mask/' + 'train2.0.json')"
   ]
  },
  {
   "cell_type": "code",
   "execution_count": 27,
   "metadata": {},
   "outputs": [],
   "source": [
    "check = load_json(filepath + 'squadv1_mask/' + 'dev1.0.json')"
   ]
  },
  {
   "cell_type": "code",
   "execution_count": 28,
   "metadata": {},
   "outputs": [
    {
     "data": {
      "text/plain": [
       "{'context': 'Super Bowl 50 was an American football game to determine the champion of the National Football League (NFL) for the 2015 season. The American Football Conference (AFC) champion Denver Broncos defeated the National Football Conference (NFC) champion Carolina Panthers 24–10 to earn their third Super Bowl title. The game was played on February 7, 2016, at Levi\\'s Stadium in the San Francisco Bay Area at Santa Clara, California. As this was the 50th Super Bowl, the league emphasized the \"golden anniversary\" with various gold-themed initiatives, as well as temporarily suspending the tradition of naming each Super Bowl game with Roman numerals (under which the game would have been known as \"Super Bowl L\"), so that the logo could prominently feature the Arabic numerals 50.',\n",
       " 'qas': [{'answers': [{'answer_start': 177, 'text': 'Denver Broncos'},\n",
       "    {'answer_start': 177, 'text': 'Denver Broncos'},\n",
       "    {'answer_start': 177, 'text': 'Denver Broncos'}],\n",
       "   'question': '[MASK] nfl team represented the afc at super bowl 50?',\n",
       "   'id': '56be4db0acb8001400a502ec'},\n",
       "  {'answers': [{'answer_start': 249, 'text': 'Carolina Panthers'},\n",
       "    {'answer_start': 249, 'text': 'Carolina Panthers'},\n",
       "    {'answer_start': 249, 'text': 'Carolina Panthers'}],\n",
       "   'question': '[MASK] nfl team represented the nfc at super bowl 50?',\n",
       "   'id': '56be4db0acb8001400a502ed'},\n",
       "  {'answers': [{'answer_start': 403, 'text': 'Santa Clara, California'},\n",
       "    {'answer_start': 355, 'text': \"Levi's Stadium\"},\n",
       "    {'answer_start': 355,\n",
       "     'text': \"Levi's Stadium in the San Francisco Bay Area at Santa Clara, California.\"}],\n",
       "   'question': '[MASK] did super bowl 50 take place?',\n",
       "   'id': '56be4db0acb8001400a502ee'},\n",
       "  {'answers': [{'answer_start': 177, 'text': 'Denver Broncos'},\n",
       "    {'answer_start': 177, 'text': 'Denver Broncos'},\n",
       "    {'answer_start': 177, 'text': 'Denver Broncos'}],\n",
       "   'question': '[MASK] nfl team won super bowl 50?',\n",
       "   'id': '56be4db0acb8001400a502ef'},\n",
       "  {'answers': [{'answer_start': 488, 'text': 'gold'},\n",
       "    {'answer_start': 488, 'text': 'gold'},\n",
       "    {'answer_start': 521, 'text': 'gold'}],\n",
       "   'question': '[MASK] color was used to emphasize the 50th anniversary of the super bowl?',\n",
       "   'id': '56be4db0acb8001400a502f0'},\n",
       "  {'answers': [{'answer_start': 487, 'text': '\"golden anniversary\"'},\n",
       "    {'answer_start': 521, 'text': 'gold-themed'},\n",
       "    {'answer_start': 487, 'text': '\"golden anniversary'}],\n",
       "   'question': '[MASK] was the theme of super bowl 50?',\n",
       "   'id': '56be8e613aeaaa14008c90d1'},\n",
       "  {'answers': [{'answer_start': 334, 'text': 'February 7, 2016'},\n",
       "    {'answer_start': 334, 'text': 'February 7'},\n",
       "    {'answer_start': 334, 'text': 'February 7, 2016'}],\n",
       "   'question': '[MASK] day was the game played on?',\n",
       "   'id': '56be8e613aeaaa14008c90d2'},\n",
       "  {'answers': [{'answer_start': 133, 'text': 'American Football Conference'},\n",
       "    {'answer_start': 133, 'text': 'American Football Conference'},\n",
       "    {'answer_start': 133, 'text': 'American Football Conference'}],\n",
       "   'question': '[MASK] is the afc short for?',\n",
       "   'id': '56be8e613aeaaa14008c90d3'},\n",
       "  {'answers': [{'answer_start': 487, 'text': '\"golden anniversary\"'},\n",
       "    {'answer_start': 521, 'text': 'gold-themed'},\n",
       "    {'answer_start': 521, 'text': 'gold'}],\n",
       "   'question': '[MASK] was the theme of super bowl 50?',\n",
       "   'id': '56bea9923aeaaa14008c91b9'},\n",
       "  {'answers': [{'answer_start': 133, 'text': 'American Football Conference'},\n",
       "    {'answer_start': 133, 'text': 'American Football Conference'},\n",
       "    {'answer_start': 133, 'text': 'American Football Conference'}],\n",
       "   'question': '[MASK] does afc stand for?',\n",
       "   'id': '56bea9923aeaaa14008c91ba'},\n",
       "  {'answers': [{'answer_start': 334, 'text': 'February 7, 2016'},\n",
       "    {'answer_start': 334, 'text': 'February 7'},\n",
       "    {'answer_start': 334, 'text': 'February 7, 2016'}],\n",
       "   'question': '[MASK] day was the super bowl played on?',\n",
       "   'id': '56bea9923aeaaa14008c91bb'},\n",
       "  {'answers': [{'answer_start': 177, 'text': 'Denver Broncos'},\n",
       "    {'answer_start': 177, 'text': 'Denver Broncos'},\n",
       "    {'answer_start': 177, 'text': 'Denver Broncos'}],\n",
       "   'question': '[MASK] won super bowl 50?',\n",
       "   'id': '56beace93aeaaa14008c91df'},\n",
       "  {'answers': [{'answer_start': 355, 'text': \"Levi's Stadium\"},\n",
       "    {'answer_start': 355, 'text': \"Levi's Stadium\"},\n",
       "    {'answer_start': 355,\n",
       "     'text': \"Levi's Stadium in the San Francisco Bay Area at Santa Clara\"}],\n",
       "   'question': '[MASK] venue did super bowl 50 take place in?',\n",
       "   'id': '56beace93aeaaa14008c91e0'},\n",
       "  {'answers': [{'answer_start': 403, 'text': 'Santa Clara'},\n",
       "    {'answer_start': 403, 'text': 'Santa Clara'},\n",
       "    {'answer_start': 403, 'text': 'Santa Clara'}],\n",
       "   'question': '[MASK] city did super bowl 50 take place in?',\n",
       "   'id': '56beace93aeaaa14008c91e1'},\n",
       "  {'answers': [{'answer_start': 693, 'text': 'Super Bowl L'},\n",
       "    {'answer_start': 704, 'text': 'L'},\n",
       "    {'answer_start': 693, 'text': 'Super Bowl L'}],\n",
       "   'question': 'if roman numerals were used, [MASK] would super bowl 50 have been called?',\n",
       "   'id': '56beace93aeaaa14008c91e2'},\n",
       "  {'answers': [{'answer_start': 116, 'text': '2015'},\n",
       "    {'answer_start': 112, 'text': 'the 2015 season'},\n",
       "    {'answer_start': 116, 'text': '2015'}],\n",
       "   'question': 'super bowl 50 decided the nfl champion for [MASK] season?',\n",
       "   'id': '56beace93aeaaa14008c91e3'},\n",
       "  {'answers': [{'answer_start': 116, 'text': '2015'},\n",
       "    {'answer_start': 346, 'text': '2016'},\n",
       "    {'answer_start': 116, 'text': '2015'}],\n",
       "   'question': '[MASK] year did the denver broncos secure a super bowl title for the third time?',\n",
       "   'id': '56bf10f43aeaaa14008c94fd'},\n",
       "  {'answers': [{'answer_start': 403, 'text': 'Santa Clara'},\n",
       "    {'answer_start': 403, 'text': 'Santa Clara'},\n",
       "    {'answer_start': 403, 'text': 'Santa Clara'}],\n",
       "   'question': '[MASK] city did super bowl 50 take place in?',\n",
       "   'id': '56bf10f43aeaaa14008c94fe'},\n",
       "  {'answers': [{'answer_start': 355, 'text': \"Levi's Stadium\"},\n",
       "    {'answer_start': 355, 'text': \"Levi's Stadium\"},\n",
       "    {'answer_start': 355, 'text': \"Levi's Stadium\"}],\n",
       "   'question': '[MASK] stadium did super bowl 50 take place in?',\n",
       "   'id': '56bf10f43aeaaa14008c94ff'},\n",
       "  {'answers': [{'answer_start': 267, 'text': '24–10'},\n",
       "    {'answer_start': 267, 'text': '24–10'},\n",
       "    {'answer_start': 267, 'text': '24–10'}],\n",
       "   'question': '[MASK] was the final score of super bowl 50? ',\n",
       "   'id': '56bf10f43aeaaa14008c9500'},\n",
       "  {'answers': [{'answer_start': 334, 'text': 'February 7, 2016'},\n",
       "    {'answer_start': 334, 'text': 'February 7, 2016'},\n",
       "    {'answer_start': 334, 'text': 'February 7, 2016'}],\n",
       "   'question': '[MASK] month, day and year did super bowl 50 take place? ',\n",
       "   'id': '56bf10f43aeaaa14008c9501'},\n",
       "  {'answers': [{'answer_start': 116, 'text': '2015'},\n",
       "    {'answer_start': 346, 'text': '2016'},\n",
       "    {'answer_start': 346, 'text': '2016'}],\n",
       "   'question': '[MASK] year was super bowl 50?',\n",
       "   'id': '56d20362e7d4791d009025e8'},\n",
       "  {'answers': [{'answer_start': 177, 'text': 'Denver Broncos'},\n",
       "    {'answer_start': 177, 'text': 'Denver Broncos'},\n",
       "    {'answer_start': 177, 'text': 'Denver Broncos'}],\n",
       "   'question': '[MASK] team was the afc champion?',\n",
       "   'id': '56d20362e7d4791d009025e9'},\n",
       "  {'answers': [{'answer_start': 249, 'text': 'Carolina Panthers'},\n",
       "    {'answer_start': 249, 'text': 'Carolina Panthers'},\n",
       "    {'answer_start': 249, 'text': 'Carolina Panthers'}],\n",
       "   'question': '[MASK] team was the nfc champion?',\n",
       "   'id': '56d20362e7d4791d009025ea'},\n",
       "  {'answers': [{'answer_start': 177, 'text': 'Denver Broncos'},\n",
       "    {'answer_start': 177, 'text': 'Denver Broncos'},\n",
       "    {'answer_start': 177, 'text': 'Denver Broncos'}],\n",
       "   'question': '[MASK] won super bowl 50?',\n",
       "   'id': '56d20362e7d4791d009025eb'},\n",
       "  {'answers': [{'answer_start': 116, 'text': '2015'},\n",
       "    {'answer_start': 112, 'text': 'the 2015 season'},\n",
       "    {'answer_start': 116, 'text': '2015'}],\n",
       "   'question': 'super bowl 50 determined the nfl champion for [MASK] season?',\n",
       "   'id': '56d600e31c85041400946eae'},\n",
       "  {'answers': [{'answer_start': 177, 'text': 'Denver Broncos'},\n",
       "    {'answer_start': 177, 'text': 'Denver Broncos'},\n",
       "    {'answer_start': 177, 'text': 'Denver Broncos'}],\n",
       "   'question': '[MASK] team won super bowl 50.',\n",
       "   'id': '56d600e31c85041400946eb0'},\n",
       "  {'answers': [{'answer_start': 403, 'text': 'Santa Clara, California.'},\n",
       "    {'answer_start': 355, 'text': \"Levi's Stadium\"},\n",
       "    {'answer_start': 355, 'text': \"Levi's Stadium\"}],\n",
       "   'question': '[MASK] was super bowl 50 held?',\n",
       "   'id': '56d600e31c85041400946eb1'},\n",
       "  {'answers': [{'answer_start': 0, 'text': 'Super Bowl'},\n",
       "    {'answer_start': 0, 'text': 'Super Bowl'},\n",
       "    {'answer_start': 0, 'text': 'Super Bowl'}],\n",
       "   'question': 'the name of the nfl championship game is?',\n",
       "   'id': '56d9895ddc89441400fdb50e'},\n",
       "  {'answers': [{'answer_start': 177, 'text': 'Denver Broncos'},\n",
       "    {'answer_start': 177, 'text': 'Denver Broncos'},\n",
       "    {'answer_start': 177, 'text': 'Denver Broncos'}],\n",
       "   'question': '[MASK] 2015 nfl team one the afc playoff?',\n",
       "   'id': '56d9895ddc89441400fdb510'}]}"
      ]
     },
     "execution_count": 28,
     "metadata": {},
     "output_type": "execute_result"
    }
   ],
   "source": [
    "check['data'][0]['paragraphs'][0]"
   ]
  },
  {
   "cell_type": "code",
   "execution_count": 29,
   "metadata": {},
   "outputs": [],
   "source": [
    "original = load_json(filepath + 'squadv1/' + 'dev-v1.1.json')"
   ]
  },
  {
   "cell_type": "code",
   "execution_count": 30,
   "metadata": {},
   "outputs": [
    {
     "data": {
      "text/plain": [
       "{'context': 'Super Bowl 50 was an American football game to determine the champion of the National Football League (NFL) for the 2015 season. The American Football Conference (AFC) champion Denver Broncos defeated the National Football Conference (NFC) champion Carolina Panthers 24–10 to earn their third Super Bowl title. The game was played on February 7, 2016, at Levi\\'s Stadium in the San Francisco Bay Area at Santa Clara, California. As this was the 50th Super Bowl, the league emphasized the \"golden anniversary\" with various gold-themed initiatives, as well as temporarily suspending the tradition of naming each Super Bowl game with Roman numerals (under which the game would have been known as \"Super Bowl L\"), so that the logo could prominently feature the Arabic numerals 50.',\n",
       " 'qas': [{'answers': [{'answer_start': 177, 'text': 'Denver Broncos'},\n",
       "    {'answer_start': 177, 'text': 'Denver Broncos'},\n",
       "    {'answer_start': 177, 'text': 'Denver Broncos'}],\n",
       "   'question': 'Which NFL team represented the AFC at Super Bowl 50?',\n",
       "   'id': '56be4db0acb8001400a502ec'},\n",
       "  {'answers': [{'answer_start': 249, 'text': 'Carolina Panthers'},\n",
       "    {'answer_start': 249, 'text': 'Carolina Panthers'},\n",
       "    {'answer_start': 249, 'text': 'Carolina Panthers'}],\n",
       "   'question': 'Which NFL team represented the NFC at Super Bowl 50?',\n",
       "   'id': '56be4db0acb8001400a502ed'},\n",
       "  {'answers': [{'answer_start': 403, 'text': 'Santa Clara, California'},\n",
       "    {'answer_start': 355, 'text': \"Levi's Stadium\"},\n",
       "    {'answer_start': 355,\n",
       "     'text': \"Levi's Stadium in the San Francisco Bay Area at Santa Clara, California.\"}],\n",
       "   'question': 'Where did Super Bowl 50 take place?',\n",
       "   'id': '56be4db0acb8001400a502ee'},\n",
       "  {'answers': [{'answer_start': 177, 'text': 'Denver Broncos'},\n",
       "    {'answer_start': 177, 'text': 'Denver Broncos'},\n",
       "    {'answer_start': 177, 'text': 'Denver Broncos'}],\n",
       "   'question': 'Which NFL team won Super Bowl 50?',\n",
       "   'id': '56be4db0acb8001400a502ef'},\n",
       "  {'answers': [{'answer_start': 488, 'text': 'gold'},\n",
       "    {'answer_start': 488, 'text': 'gold'},\n",
       "    {'answer_start': 521, 'text': 'gold'}],\n",
       "   'question': 'What color was used to emphasize the 50th anniversary of the Super Bowl?',\n",
       "   'id': '56be4db0acb8001400a502f0'},\n",
       "  {'answers': [{'answer_start': 487, 'text': '\"golden anniversary\"'},\n",
       "    {'answer_start': 521, 'text': 'gold-themed'},\n",
       "    {'answer_start': 487, 'text': '\"golden anniversary'}],\n",
       "   'question': 'What was the theme of Super Bowl 50?',\n",
       "   'id': '56be8e613aeaaa14008c90d1'},\n",
       "  {'answers': [{'answer_start': 334, 'text': 'February 7, 2016'},\n",
       "    {'answer_start': 334, 'text': 'February 7'},\n",
       "    {'answer_start': 334, 'text': 'February 7, 2016'}],\n",
       "   'question': 'What day was the game played on?',\n",
       "   'id': '56be8e613aeaaa14008c90d2'},\n",
       "  {'answers': [{'answer_start': 133, 'text': 'American Football Conference'},\n",
       "    {'answer_start': 133, 'text': 'American Football Conference'},\n",
       "    {'answer_start': 133, 'text': 'American Football Conference'}],\n",
       "   'question': 'What is the AFC short for?',\n",
       "   'id': '56be8e613aeaaa14008c90d3'},\n",
       "  {'answers': [{'answer_start': 487, 'text': '\"golden anniversary\"'},\n",
       "    {'answer_start': 521, 'text': 'gold-themed'},\n",
       "    {'answer_start': 521, 'text': 'gold'}],\n",
       "   'question': 'What was the theme of Super Bowl 50?',\n",
       "   'id': '56bea9923aeaaa14008c91b9'},\n",
       "  {'answers': [{'answer_start': 133, 'text': 'American Football Conference'},\n",
       "    {'answer_start': 133, 'text': 'American Football Conference'},\n",
       "    {'answer_start': 133, 'text': 'American Football Conference'}],\n",
       "   'question': 'What does AFC stand for?',\n",
       "   'id': '56bea9923aeaaa14008c91ba'},\n",
       "  {'answers': [{'answer_start': 334, 'text': 'February 7, 2016'},\n",
       "    {'answer_start': 334, 'text': 'February 7'},\n",
       "    {'answer_start': 334, 'text': 'February 7, 2016'}],\n",
       "   'question': 'What day was the Super Bowl played on?',\n",
       "   'id': '56bea9923aeaaa14008c91bb'},\n",
       "  {'answers': [{'answer_start': 177, 'text': 'Denver Broncos'},\n",
       "    {'answer_start': 177, 'text': 'Denver Broncos'},\n",
       "    {'answer_start': 177, 'text': 'Denver Broncos'}],\n",
       "   'question': 'Who won Super Bowl 50?',\n",
       "   'id': '56beace93aeaaa14008c91df'},\n",
       "  {'answers': [{'answer_start': 355, 'text': \"Levi's Stadium\"},\n",
       "    {'answer_start': 355, 'text': \"Levi's Stadium\"},\n",
       "    {'answer_start': 355,\n",
       "     'text': \"Levi's Stadium in the San Francisco Bay Area at Santa Clara\"}],\n",
       "   'question': 'What venue did Super Bowl 50 take place in?',\n",
       "   'id': '56beace93aeaaa14008c91e0'},\n",
       "  {'answers': [{'answer_start': 403, 'text': 'Santa Clara'},\n",
       "    {'answer_start': 403, 'text': 'Santa Clara'},\n",
       "    {'answer_start': 403, 'text': 'Santa Clara'}],\n",
       "   'question': 'What city did Super Bowl 50 take place in?',\n",
       "   'id': '56beace93aeaaa14008c91e1'},\n",
       "  {'answers': [{'answer_start': 693, 'text': 'Super Bowl L'},\n",
       "    {'answer_start': 704, 'text': 'L'},\n",
       "    {'answer_start': 693, 'text': 'Super Bowl L'}],\n",
       "   'question': 'If Roman numerals were used, what would Super Bowl 50 have been called?',\n",
       "   'id': '56beace93aeaaa14008c91e2'},\n",
       "  {'answers': [{'answer_start': 116, 'text': '2015'},\n",
       "    {'answer_start': 112, 'text': 'the 2015 season'},\n",
       "    {'answer_start': 116, 'text': '2015'}],\n",
       "   'question': 'Super Bowl 50 decided the NFL champion for what season?',\n",
       "   'id': '56beace93aeaaa14008c91e3'},\n",
       "  {'answers': [{'answer_start': 116, 'text': '2015'},\n",
       "    {'answer_start': 346, 'text': '2016'},\n",
       "    {'answer_start': 116, 'text': '2015'}],\n",
       "   'question': 'What year did the Denver Broncos secure a Super Bowl title for the third time?',\n",
       "   'id': '56bf10f43aeaaa14008c94fd'},\n",
       "  {'answers': [{'answer_start': 403, 'text': 'Santa Clara'},\n",
       "    {'answer_start': 403, 'text': 'Santa Clara'},\n",
       "    {'answer_start': 403, 'text': 'Santa Clara'}],\n",
       "   'question': 'What city did Super Bowl 50 take place in?',\n",
       "   'id': '56bf10f43aeaaa14008c94fe'},\n",
       "  {'answers': [{'answer_start': 355, 'text': \"Levi's Stadium\"},\n",
       "    {'answer_start': 355, 'text': \"Levi's Stadium\"},\n",
       "    {'answer_start': 355, 'text': \"Levi's Stadium\"}],\n",
       "   'question': 'What stadium did Super Bowl 50 take place in?',\n",
       "   'id': '56bf10f43aeaaa14008c94ff'},\n",
       "  {'answers': [{'answer_start': 267, 'text': '24–10'},\n",
       "    {'answer_start': 267, 'text': '24–10'},\n",
       "    {'answer_start': 267, 'text': '24–10'}],\n",
       "   'question': 'What was the final score of Super Bowl 50? ',\n",
       "   'id': '56bf10f43aeaaa14008c9500'},\n",
       "  {'answers': [{'answer_start': 334, 'text': 'February 7, 2016'},\n",
       "    {'answer_start': 334, 'text': 'February 7, 2016'},\n",
       "    {'answer_start': 334, 'text': 'February 7, 2016'}],\n",
       "   'question': 'What month, day and year did Super Bowl 50 take place? ',\n",
       "   'id': '56bf10f43aeaaa14008c9501'},\n",
       "  {'answers': [{'answer_start': 116, 'text': '2015'},\n",
       "    {'answer_start': 346, 'text': '2016'},\n",
       "    {'answer_start': 346, 'text': '2016'}],\n",
       "   'question': 'What year was Super Bowl 50?',\n",
       "   'id': '56d20362e7d4791d009025e8'},\n",
       "  {'answers': [{'answer_start': 177, 'text': 'Denver Broncos'},\n",
       "    {'answer_start': 177, 'text': 'Denver Broncos'},\n",
       "    {'answer_start': 177, 'text': 'Denver Broncos'}],\n",
       "   'question': 'What team was the AFC champion?',\n",
       "   'id': '56d20362e7d4791d009025e9'},\n",
       "  {'answers': [{'answer_start': 249, 'text': 'Carolina Panthers'},\n",
       "    {'answer_start': 249, 'text': 'Carolina Panthers'},\n",
       "    {'answer_start': 249, 'text': 'Carolina Panthers'}],\n",
       "   'question': 'What team was the NFC champion?',\n",
       "   'id': '56d20362e7d4791d009025ea'},\n",
       "  {'answers': [{'answer_start': 177, 'text': 'Denver Broncos'},\n",
       "    {'answer_start': 177, 'text': 'Denver Broncos'},\n",
       "    {'answer_start': 177, 'text': 'Denver Broncos'}],\n",
       "   'question': 'Who won Super Bowl 50?',\n",
       "   'id': '56d20362e7d4791d009025eb'},\n",
       "  {'answers': [{'answer_start': 116, 'text': '2015'},\n",
       "    {'answer_start': 112, 'text': 'the 2015 season'},\n",
       "    {'answer_start': 116, 'text': '2015'}],\n",
       "   'question': 'Super Bowl 50 determined the NFL champion for what season?',\n",
       "   'id': '56d600e31c85041400946eae'},\n",
       "  {'answers': [{'answer_start': 177, 'text': 'Denver Broncos'},\n",
       "    {'answer_start': 177, 'text': 'Denver Broncos'},\n",
       "    {'answer_start': 177, 'text': 'Denver Broncos'}],\n",
       "   'question': 'Which team won Super Bowl 50.',\n",
       "   'id': '56d600e31c85041400946eb0'},\n",
       "  {'answers': [{'answer_start': 403, 'text': 'Santa Clara, California.'},\n",
       "    {'answer_start': 355, 'text': \"Levi's Stadium\"},\n",
       "    {'answer_start': 355, 'text': \"Levi's Stadium\"}],\n",
       "   'question': 'Where was Super Bowl 50 held?',\n",
       "   'id': '56d600e31c85041400946eb1'},\n",
       "  {'answers': [{'answer_start': 0, 'text': 'Super Bowl'},\n",
       "    {'answer_start': 0, 'text': 'Super Bowl'},\n",
       "    {'answer_start': 0, 'text': 'Super Bowl'}],\n",
       "   'question': 'The name of the NFL championship game is?',\n",
       "   'id': '56d9895ddc89441400fdb50e'},\n",
       "  {'answers': [{'answer_start': 177, 'text': 'Denver Broncos'},\n",
       "    {'answer_start': 177, 'text': 'Denver Broncos'},\n",
       "    {'answer_start': 177, 'text': 'Denver Broncos'}],\n",
       "   'question': 'What 2015 NFL team one the AFC playoff?',\n",
       "   'id': '56d9895ddc89441400fdb510'}]}"
      ]
     },
     "execution_count": 30,
     "metadata": {},
     "output_type": "execute_result"
    }
   ],
   "source": [
    "original['data'][0]['paragraphs'][0]"
   ]
  },
  {
   "cell_type": "code",
   "execution_count": null,
   "metadata": {},
   "outputs": [],
   "source": []
  }
 ],
 "metadata": {
  "kernelspec": {
   "display_name": "Python 3",
   "language": "python",
   "name": "python3"
  },
  "language_info": {
   "codemirror_mode": {
    "name": "ipython",
    "version": 3
   },
   "file_extension": ".py",
   "mimetype": "text/x-python",
   "name": "python",
   "nbconvert_exporter": "python",
   "pygments_lexer": "ipython3",
   "version": "3.6.6"
  }
 },
 "nbformat": 4,
 "nbformat_minor": 2
}
